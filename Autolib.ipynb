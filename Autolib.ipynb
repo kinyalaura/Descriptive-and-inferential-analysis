{
  "nbformat": 4,
  "nbformat_minor": 0,
  "metadata": {
    "colab": {
      "name": "Autolib.ipynb",
      "provenance": []
    },
    "kernelspec": {
      "name": "python3",
      "display_name": "Python 3"
    }
  },
  "cells": [
    {
      "cell_type": "markdown",
      "metadata": {
        "id": "ICt9f6zS6N4m",
        "colab_type": "text"
      },
      "source": [
        "#Exploratory Data Analysis"
      ]
    },
    {
      "cell_type": "markdown",
      "metadata": {
        "id": "LkBw8tRT8jet",
        "colab_type": "text"
      },
      "source": [
        "Just like before, we have been tasked to understand electric car usage by solving for another research question. We will work as a Data Scientist for the Autolib electric car-sharing service company to investigate a claim about the blue cars from the provided Autolib dataset.\n",
        "\n",
        "In an effort to do this, we need to identify some areas and periods of interest via sampling stating the reason to the choice of method, then perform hypothesis testing with regards to the claim that we will have made. An example of claim to test would be \"Is the number of Bluecars taken in area X different than in area Y? Is it greater in area X than in area Z? Etc”. The selected periods of interest be either weekdays or weekends but not a mix of both. You can also consider postal codes 75015 vs 75017 to some of the areas of interest. "
      ]
    },
    {
      "cell_type": "markdown",
      "metadata": {
        "id": "KWSFT_R_-lsn",
        "colab_type": "text"
      },
      "source": [
        "#1.Importing Libraries"
      ]
    },
    {
      "cell_type": "code",
      "metadata": {
        "id": "Xmliw7U3-pxj",
        "colab_type": "code",
        "colab": {
          "base_uri": "https://localhost:8080/",
          "height": 90
        },
        "outputId": "e68b1ffe-6cfd-436a-82b4-7738a88f905f"
      },
      "source": [
        "#Importing pandas library\n",
        "\n",
        "import pandas as pd\n",
        "\n",
        "#imporing numpy library\n",
        "\n",
        "import numpy as np\n",
        "\n",
        "#importing matplotlib\n",
        "\n",
        "import matplotlib\n",
        "\n",
        "from matplotlib import pyplot\n",
        "\n",
        "import matplotlib.pyplot as plt\n",
        "\n",
        "#import scipy\n",
        "import scipy.integrate as integrate\n",
        "\n",
        "import scipy\n",
        "\n",
        "from scipy import stats\n",
        "\n",
        "#importing seaborn\n",
        "import seaborn as  sns\n",
        "\n",
        "#importing maths\n",
        "from math import sqrt\n",
        "\n",
        "print('Libraries imported')"
      ],
      "execution_count": 1,
      "outputs": [
        {
          "output_type": "stream",
          "text": [
            "Libraries imported\n"
          ],
          "name": "stdout"
        },
        {
          "output_type": "stream",
          "text": [
            "/usr/local/lib/python3.6/dist-packages/statsmodels/tools/_testing.py:19: FutureWarning: pandas.util.testing is deprecated. Use the functions in the public API at pandas.testing instead.\n",
            "  import pandas.util.testing as tm\n"
          ],
          "name": "stderr"
        }
      ]
    },
    {
      "cell_type": "markdown",
      "metadata": {
        "id": "IGCP-p-1-UEJ",
        "colab_type": "text"
      },
      "source": [
        "#2.Reading The data"
      ]
    },
    {
      "cell_type": "code",
      "metadata": {
        "id": "wJclXKvH5zs_",
        "colab_type": "code",
        "colab": {
          "base_uri": "https://localhost:8080/",
          "height": 234
        },
        "outputId": "89e1014d-51d0-4fdf-eef4-d4244d73b683"
      },
      "source": [
        "#Reading the data\n",
        "Auto_df = pd.read_csv('http://bit.ly/DSCoreAutolibDataset')#Reading the dataset using the pandas function\n",
        "Auto_df.head()#Displaying the first five rows of the dataset\n"
      ],
      "execution_count": 2,
      "outputs": [
        {
          "output_type": "execute_result",
          "data": {
            "text/html": [
              "<div>\n",
              "<style scoped>\n",
              "    .dataframe tbody tr th:only-of-type {\n",
              "        vertical-align: middle;\n",
              "    }\n",
              "\n",
              "    .dataframe tbody tr th {\n",
              "        vertical-align: top;\n",
              "    }\n",
              "\n",
              "    .dataframe thead th {\n",
              "        text-align: right;\n",
              "    }\n",
              "</style>\n",
              "<table border=\"1\" class=\"dataframe\">\n",
              "  <thead>\n",
              "    <tr style=\"text-align: right;\">\n",
              "      <th></th>\n",
              "      <th>Postal code</th>\n",
              "      <th>date</th>\n",
              "      <th>n_daily_data_points</th>\n",
              "      <th>dayOfWeek</th>\n",
              "      <th>day_type</th>\n",
              "      <th>BlueCars_taken_sum</th>\n",
              "      <th>BlueCars_returned_sum</th>\n",
              "      <th>Utilib_taken_sum</th>\n",
              "      <th>Utilib_returned_sum</th>\n",
              "      <th>Utilib_14_taken_sum</th>\n",
              "      <th>Utilib_14_returned_sum</th>\n",
              "      <th>Slots_freed_sum</th>\n",
              "      <th>Slots_taken_sum</th>\n",
              "    </tr>\n",
              "  </thead>\n",
              "  <tbody>\n",
              "    <tr>\n",
              "      <th>0</th>\n",
              "      <td>75001</td>\n",
              "      <td>1/1/2018</td>\n",
              "      <td>1440</td>\n",
              "      <td>0</td>\n",
              "      <td>weekday</td>\n",
              "      <td>110</td>\n",
              "      <td>103</td>\n",
              "      <td>3</td>\n",
              "      <td>2</td>\n",
              "      <td>10</td>\n",
              "      <td>9</td>\n",
              "      <td>22</td>\n",
              "      <td>20</td>\n",
              "    </tr>\n",
              "    <tr>\n",
              "      <th>1</th>\n",
              "      <td>75001</td>\n",
              "      <td>1/2/2018</td>\n",
              "      <td>1438</td>\n",
              "      <td>1</td>\n",
              "      <td>weekday</td>\n",
              "      <td>98</td>\n",
              "      <td>94</td>\n",
              "      <td>1</td>\n",
              "      <td>1</td>\n",
              "      <td>8</td>\n",
              "      <td>8</td>\n",
              "      <td>23</td>\n",
              "      <td>22</td>\n",
              "    </tr>\n",
              "    <tr>\n",
              "      <th>2</th>\n",
              "      <td>75001</td>\n",
              "      <td>1/3/2018</td>\n",
              "      <td>1439</td>\n",
              "      <td>2</td>\n",
              "      <td>weekday</td>\n",
              "      <td>138</td>\n",
              "      <td>139</td>\n",
              "      <td>0</td>\n",
              "      <td>0</td>\n",
              "      <td>2</td>\n",
              "      <td>2</td>\n",
              "      <td>27</td>\n",
              "      <td>27</td>\n",
              "    </tr>\n",
              "    <tr>\n",
              "      <th>3</th>\n",
              "      <td>75001</td>\n",
              "      <td>1/4/2018</td>\n",
              "      <td>1320</td>\n",
              "      <td>3</td>\n",
              "      <td>weekday</td>\n",
              "      <td>104</td>\n",
              "      <td>104</td>\n",
              "      <td>2</td>\n",
              "      <td>2</td>\n",
              "      <td>9</td>\n",
              "      <td>8</td>\n",
              "      <td>25</td>\n",
              "      <td>21</td>\n",
              "    </tr>\n",
              "    <tr>\n",
              "      <th>4</th>\n",
              "      <td>75001</td>\n",
              "      <td>1/5/2018</td>\n",
              "      <td>1440</td>\n",
              "      <td>4</td>\n",
              "      <td>weekday</td>\n",
              "      <td>114</td>\n",
              "      <td>117</td>\n",
              "      <td>3</td>\n",
              "      <td>3</td>\n",
              "      <td>6</td>\n",
              "      <td>6</td>\n",
              "      <td>18</td>\n",
              "      <td>20</td>\n",
              "    </tr>\n",
              "  </tbody>\n",
              "</table>\n",
              "</div>"
            ],
            "text/plain": [
              "   Postal code      date  ...  Slots_freed_sum  Slots_taken_sum\n",
              "0        75001  1/1/2018  ...               22               20\n",
              "1        75001  1/2/2018  ...               23               22\n",
              "2        75001  1/3/2018  ...               27               27\n",
              "3        75001  1/4/2018  ...               25               21\n",
              "4        75001  1/5/2018  ...               18               20\n",
              "\n",
              "[5 rows x 13 columns]"
            ]
          },
          "metadata": {
            "tags": []
          },
          "execution_count": 2
        }
      ]
    },
    {
      "cell_type": "code",
      "metadata": {
        "id": "Mk3udPsIBzR1",
        "colab_type": "code",
        "colab": {
          "base_uri": "https://localhost:8080/",
          "height": 34
        },
        "outputId": "4060b6ab-35ad-41bc-d42b-f8fbd9663c4b"
      },
      "source": [
        "print(Auto_df.shape)#shows the number of rows and columns of the dataset"
      ],
      "execution_count": 3,
      "outputs": [
        {
          "output_type": "stream",
          "text": [
            "(16085, 13)\n"
          ],
          "name": "stdout"
        }
      ]
    },
    {
      "cell_type": "code",
      "metadata": {
        "id": "Bvs6xmdQBUzv",
        "colab_type": "code",
        "colab": {
          "base_uri": "https://localhost:8080/",
          "height": 234
        },
        "outputId": "1996c5a6-c968-4248-e4f3-a43c43b0ce21"
      },
      "source": [
        "#Previewing  the bottom of the dataset\n",
        "Auto_df.tail()#Displaying the last five rows"
      ],
      "execution_count": 4,
      "outputs": [
        {
          "output_type": "execute_result",
          "data": {
            "text/html": [
              "<div>\n",
              "<style scoped>\n",
              "    .dataframe tbody tr th:only-of-type {\n",
              "        vertical-align: middle;\n",
              "    }\n",
              "\n",
              "    .dataframe tbody tr th {\n",
              "        vertical-align: top;\n",
              "    }\n",
              "\n",
              "    .dataframe thead th {\n",
              "        text-align: right;\n",
              "    }\n",
              "</style>\n",
              "<table border=\"1\" class=\"dataframe\">\n",
              "  <thead>\n",
              "    <tr style=\"text-align: right;\">\n",
              "      <th></th>\n",
              "      <th>Postal code</th>\n",
              "      <th>date</th>\n",
              "      <th>n_daily_data_points</th>\n",
              "      <th>dayOfWeek</th>\n",
              "      <th>day_type</th>\n",
              "      <th>BlueCars_taken_sum</th>\n",
              "      <th>BlueCars_returned_sum</th>\n",
              "      <th>Utilib_taken_sum</th>\n",
              "      <th>Utilib_returned_sum</th>\n",
              "      <th>Utilib_14_taken_sum</th>\n",
              "      <th>Utilib_14_returned_sum</th>\n",
              "      <th>Slots_freed_sum</th>\n",
              "      <th>Slots_taken_sum</th>\n",
              "    </tr>\n",
              "  </thead>\n",
              "  <tbody>\n",
              "    <tr>\n",
              "      <th>16080</th>\n",
              "      <td>95880</td>\n",
              "      <td>6/15/2018</td>\n",
              "      <td>1440</td>\n",
              "      <td>4</td>\n",
              "      <td>weekday</td>\n",
              "      <td>15</td>\n",
              "      <td>10</td>\n",
              "      <td>0</td>\n",
              "      <td>0</td>\n",
              "      <td>2</td>\n",
              "      <td>3</td>\n",
              "      <td>0</td>\n",
              "      <td>0</td>\n",
              "    </tr>\n",
              "    <tr>\n",
              "      <th>16081</th>\n",
              "      <td>95880</td>\n",
              "      <td>6/16/2018</td>\n",
              "      <td>1440</td>\n",
              "      <td>5</td>\n",
              "      <td>weekend</td>\n",
              "      <td>19</td>\n",
              "      <td>19</td>\n",
              "      <td>0</td>\n",
              "      <td>0</td>\n",
              "      <td>2</td>\n",
              "      <td>1</td>\n",
              "      <td>0</td>\n",
              "      <td>0</td>\n",
              "    </tr>\n",
              "    <tr>\n",
              "      <th>16082</th>\n",
              "      <td>95880</td>\n",
              "      <td>6/17/2018</td>\n",
              "      <td>1440</td>\n",
              "      <td>6</td>\n",
              "      <td>weekend</td>\n",
              "      <td>33</td>\n",
              "      <td>35</td>\n",
              "      <td>1</td>\n",
              "      <td>1</td>\n",
              "      <td>0</td>\n",
              "      <td>0</td>\n",
              "      <td>0</td>\n",
              "      <td>0</td>\n",
              "    </tr>\n",
              "    <tr>\n",
              "      <th>16083</th>\n",
              "      <td>95880</td>\n",
              "      <td>6/18/2018</td>\n",
              "      <td>1440</td>\n",
              "      <td>0</td>\n",
              "      <td>weekday</td>\n",
              "      <td>11</td>\n",
              "      <td>14</td>\n",
              "      <td>3</td>\n",
              "      <td>5</td>\n",
              "      <td>2</td>\n",
              "      <td>2</td>\n",
              "      <td>0</td>\n",
              "      <td>0</td>\n",
              "    </tr>\n",
              "    <tr>\n",
              "      <th>16084</th>\n",
              "      <td>95880</td>\n",
              "      <td>6/19/2018</td>\n",
              "      <td>1370</td>\n",
              "      <td>1</td>\n",
              "      <td>weekday</td>\n",
              "      <td>2</td>\n",
              "      <td>2</td>\n",
              "      <td>2</td>\n",
              "      <td>1</td>\n",
              "      <td>0</td>\n",
              "      <td>0</td>\n",
              "      <td>0</td>\n",
              "      <td>0</td>\n",
              "    </tr>\n",
              "  </tbody>\n",
              "</table>\n",
              "</div>"
            ],
            "text/plain": [
              "       Postal code       date  ...  Slots_freed_sum  Slots_taken_sum\n",
              "16080        95880  6/15/2018  ...                0                0\n",
              "16081        95880  6/16/2018  ...                0                0\n",
              "16082        95880  6/17/2018  ...                0                0\n",
              "16083        95880  6/18/2018  ...                0                0\n",
              "16084        95880  6/19/2018  ...                0                0\n",
              "\n",
              "[5 rows x 13 columns]"
            ]
          },
          "metadata": {
            "tags": []
          },
          "execution_count": 4
        }
      ]
    },
    {
      "cell_type": "code",
      "metadata": {
        "id": "-0zHnwKpAKa1",
        "colab_type": "code",
        "colab": {
          "base_uri": "https://localhost:8080/",
          "height": 437
        },
        "outputId": "ef009154-d73d-42b3-d4ca-bd07f4ca84e4"
      },
      "source": [
        "#Reading the variable data\n",
        "Var = pd.read_excel('http://bit.ly/DSCoreAutolibDatasetGlossary')\n",
        "Var"
      ],
      "execution_count": 5,
      "outputs": [
        {
          "output_type": "execute_result",
          "data": {
            "text/html": [
              "<div>\n",
              "<style scoped>\n",
              "    .dataframe tbody tr th:only-of-type {\n",
              "        vertical-align: middle;\n",
              "    }\n",
              "\n",
              "    .dataframe tbody tr th {\n",
              "        vertical-align: top;\n",
              "    }\n",
              "\n",
              "    .dataframe thead th {\n",
              "        text-align: right;\n",
              "    }\n",
              "</style>\n",
              "<table border=\"1\" class=\"dataframe\">\n",
              "  <thead>\n",
              "    <tr style=\"text-align: right;\">\n",
              "      <th></th>\n",
              "      <th>Column name</th>\n",
              "      <th>explanation</th>\n",
              "    </tr>\n",
              "  </thead>\n",
              "  <tbody>\n",
              "    <tr>\n",
              "      <th>0</th>\n",
              "      <td>Postal code</td>\n",
              "      <td>postal code of the area (in Paris)</td>\n",
              "    </tr>\n",
              "    <tr>\n",
              "      <th>1</th>\n",
              "      <td>date</td>\n",
              "      <td>date of the row aggregation</td>\n",
              "    </tr>\n",
              "    <tr>\n",
              "      <th>2</th>\n",
              "      <td>n_daily_data_points</td>\n",
              "      <td>number of daily data poinst that were availabl...</td>\n",
              "    </tr>\n",
              "    <tr>\n",
              "      <th>3</th>\n",
              "      <td>dayOfWeek</td>\n",
              "      <td>identifier of weekday (0: Monday -&gt; 6: Sunday)</td>\n",
              "    </tr>\n",
              "    <tr>\n",
              "      <th>4</th>\n",
              "      <td>day_type</td>\n",
              "      <td>weekday or weekend</td>\n",
              "    </tr>\n",
              "    <tr>\n",
              "      <th>5</th>\n",
              "      <td>BlueCars_taken_sum</td>\n",
              "      <td>Number of bluecars taken that date in that area</td>\n",
              "    </tr>\n",
              "    <tr>\n",
              "      <th>6</th>\n",
              "      <td>BlueCars_returned_sum</td>\n",
              "      <td>Number of bluecars returned that date in that ...</td>\n",
              "    </tr>\n",
              "    <tr>\n",
              "      <th>7</th>\n",
              "      <td>Utilib_taken_sum</td>\n",
              "      <td>Number of Utilib taken that date in that area</td>\n",
              "    </tr>\n",
              "    <tr>\n",
              "      <th>8</th>\n",
              "      <td>Utilib_returned_sum</td>\n",
              "      <td>Number of Utilib returned that date in that area</td>\n",
              "    </tr>\n",
              "    <tr>\n",
              "      <th>9</th>\n",
              "      <td>Utilib_14_taken_sum</td>\n",
              "      <td>Number of Utilib 1.4 taken that date in that area</td>\n",
              "    </tr>\n",
              "    <tr>\n",
              "      <th>10</th>\n",
              "      <td>Utilib_14_returned_sum</td>\n",
              "      <td>Number of Utilib 1.4 returned that date in tha...</td>\n",
              "    </tr>\n",
              "    <tr>\n",
              "      <th>11</th>\n",
              "      <td>Slots_freed_sum</td>\n",
              "      <td>Number of recharging slots released that date ...</td>\n",
              "    </tr>\n",
              "    <tr>\n",
              "      <th>12</th>\n",
              "      <td>Slots_taken_sum</td>\n",
              "      <td>Number of rechargign slots taken that date in ...</td>\n",
              "    </tr>\n",
              "  </tbody>\n",
              "</table>\n",
              "</div>"
            ],
            "text/plain": [
              "               Column name                                        explanation\n",
              "0              Postal code                 postal code of the area (in Paris)\n",
              "1                     date                        date of the row aggregation\n",
              "2      n_daily_data_points  number of daily data poinst that were availabl...\n",
              "3                dayOfWeek     identifier of weekday (0: Monday -> 6: Sunday)\n",
              "4                 day_type                                 weekday or weekend\n",
              "5       BlueCars_taken_sum    Number of bluecars taken that date in that area\n",
              "6    BlueCars_returned_sum  Number of bluecars returned that date in that ...\n",
              "7         Utilib_taken_sum      Number of Utilib taken that date in that area\n",
              "8      Utilib_returned_sum   Number of Utilib returned that date in that area\n",
              "9      Utilib_14_taken_sum  Number of Utilib 1.4 taken that date in that area\n",
              "10  Utilib_14_returned_sum  Number of Utilib 1.4 returned that date in tha...\n",
              "11         Slots_freed_sum  Number of recharging slots released that date ...\n",
              "12         Slots_taken_sum  Number of rechargign slots taken that date in ..."
            ]
          },
          "metadata": {
            "tags": []
          },
          "execution_count": 5
        }
      ]
    },
    {
      "cell_type": "code",
      "metadata": {
        "id": "CJjze9dpA5Ny",
        "colab_type": "code",
        "colab": {
          "base_uri": "https://localhost:8080/",
          "height": 265
        },
        "outputId": "eacbca84-2f8b-437d-865e-e4c94273a7c7"
      },
      "source": [
        "# Checking whether each column has an appropriate datatype\n",
        "\n",
        "Auto_df.dtypes"
      ],
      "execution_count": 6,
      "outputs": [
        {
          "output_type": "execute_result",
          "data": {
            "text/plain": [
              "Postal code                int64\n",
              "date                      object\n",
              "n_daily_data_points        int64\n",
              "dayOfWeek                  int64\n",
              "day_type                  object\n",
              "BlueCars_taken_sum         int64\n",
              "BlueCars_returned_sum      int64\n",
              "Utilib_taken_sum           int64\n",
              "Utilib_returned_sum        int64\n",
              "Utilib_14_taken_sum        int64\n",
              "Utilib_14_returned_sum     int64\n",
              "Slots_freed_sum            int64\n",
              "Slots_taken_sum            int64\n",
              "dtype: object"
            ]
          },
          "metadata": {
            "tags": []
          },
          "execution_count": 6
        }
      ]
    },
    {
      "cell_type": "code",
      "metadata": {
        "id": "YXb-1H3YCaUL",
        "colab_type": "code",
        "colab": {}
      },
      "source": [
        "#Changing the date column to datetime\n",
        "\n",
        "Auto_df['date'] = pd.to_datetime(Auto_df['date'])\n"
      ],
      "execution_count": 7,
      "outputs": []
    },
    {
      "cell_type": "code",
      "metadata": {
        "id": "iWPkZJTMP6d9",
        "colab_type": "code",
        "colab": {
          "base_uri": "https://localhost:8080/",
          "height": 230
        },
        "outputId": "b4d2e171-ce69-433a-a62f-9fe4dcfd3491"
      },
      "source": [
        "Auto_df['Postal code'].astype(int)"
      ],
      "execution_count": 8,
      "outputs": [
        {
          "output_type": "execute_result",
          "data": {
            "text/plain": [
              "0        75001\n",
              "1        75001\n",
              "2        75001\n",
              "3        75001\n",
              "4        75001\n",
              "         ...  \n",
              "16080    95880\n",
              "16081    95880\n",
              "16082    95880\n",
              "16083    95880\n",
              "16084    95880\n",
              "Name: Postal code, Length: 16085, dtype: int64"
            ]
          },
          "metadata": {
            "tags": []
          },
          "execution_count": 8
        }
      ]
    },
    {
      "cell_type": "code",
      "metadata": {
        "id": "1Aa2CPzNrYEv",
        "colab_type": "code",
        "colab": {
          "base_uri": "https://localhost:8080/",
          "height": 557
        },
        "outputId": "807f7c3b-46d8-4265-ca12-0de1d8ba0c98"
      },
      "source": [
        "#\n",
        "Auto_df.describe(include='all')"
      ],
      "execution_count": 9,
      "outputs": [
        {
          "output_type": "execute_result",
          "data": {
            "text/html": [
              "<div>\n",
              "<style scoped>\n",
              "    .dataframe tbody tr th:only-of-type {\n",
              "        vertical-align: middle;\n",
              "    }\n",
              "\n",
              "    .dataframe tbody tr th {\n",
              "        vertical-align: top;\n",
              "    }\n",
              "\n",
              "    .dataframe thead th {\n",
              "        text-align: right;\n",
              "    }\n",
              "</style>\n",
              "<table border=\"1\" class=\"dataframe\">\n",
              "  <thead>\n",
              "    <tr style=\"text-align: right;\">\n",
              "      <th></th>\n",
              "      <th>Postal code</th>\n",
              "      <th>date</th>\n",
              "      <th>n_daily_data_points</th>\n",
              "      <th>dayOfWeek</th>\n",
              "      <th>day_type</th>\n",
              "      <th>BlueCars_taken_sum</th>\n",
              "      <th>BlueCars_returned_sum</th>\n",
              "      <th>Utilib_taken_sum</th>\n",
              "      <th>Utilib_returned_sum</th>\n",
              "      <th>Utilib_14_taken_sum</th>\n",
              "      <th>Utilib_14_returned_sum</th>\n",
              "      <th>Slots_freed_sum</th>\n",
              "      <th>Slots_taken_sum</th>\n",
              "    </tr>\n",
              "  </thead>\n",
              "  <tbody>\n",
              "    <tr>\n",
              "      <th>count</th>\n",
              "      <td>16085.000000</td>\n",
              "      <td>16085</td>\n",
              "      <td>16085.000000</td>\n",
              "      <td>16085.000000</td>\n",
              "      <td>16085</td>\n",
              "      <td>16085.000000</td>\n",
              "      <td>16085.000000</td>\n",
              "      <td>16085.000000</td>\n",
              "      <td>16085.000000</td>\n",
              "      <td>16085.000000</td>\n",
              "      <td>16085.000000</td>\n",
              "      <td>16085.000000</td>\n",
              "      <td>16085.000000</td>\n",
              "    </tr>\n",
              "    <tr>\n",
              "      <th>unique</th>\n",
              "      <td>NaN</td>\n",
              "      <td>156</td>\n",
              "      <td>NaN</td>\n",
              "      <td>NaN</td>\n",
              "      <td>2</td>\n",
              "      <td>NaN</td>\n",
              "      <td>NaN</td>\n",
              "      <td>NaN</td>\n",
              "      <td>NaN</td>\n",
              "      <td>NaN</td>\n",
              "      <td>NaN</td>\n",
              "      <td>NaN</td>\n",
              "      <td>NaN</td>\n",
              "    </tr>\n",
              "    <tr>\n",
              "      <th>top</th>\n",
              "      <td>NaN</td>\n",
              "      <td>2018-06-12 00:00:00</td>\n",
              "      <td>NaN</td>\n",
              "      <td>NaN</td>\n",
              "      <td>weekday</td>\n",
              "      <td>NaN</td>\n",
              "      <td>NaN</td>\n",
              "      <td>NaN</td>\n",
              "      <td>NaN</td>\n",
              "      <td>NaN</td>\n",
              "      <td>NaN</td>\n",
              "      <td>NaN</td>\n",
              "      <td>NaN</td>\n",
              "    </tr>\n",
              "    <tr>\n",
              "      <th>freq</th>\n",
              "      <td>NaN</td>\n",
              "      <td>104</td>\n",
              "      <td>NaN</td>\n",
              "      <td>NaN</td>\n",
              "      <td>11544</td>\n",
              "      <td>NaN</td>\n",
              "      <td>NaN</td>\n",
              "      <td>NaN</td>\n",
              "      <td>NaN</td>\n",
              "      <td>NaN</td>\n",
              "      <td>NaN</td>\n",
              "      <td>NaN</td>\n",
              "      <td>NaN</td>\n",
              "    </tr>\n",
              "    <tr>\n",
              "      <th>first</th>\n",
              "      <td>NaN</td>\n",
              "      <td>2018-01-01 00:00:00</td>\n",
              "      <td>NaN</td>\n",
              "      <td>NaN</td>\n",
              "      <td>NaN</td>\n",
              "      <td>NaN</td>\n",
              "      <td>NaN</td>\n",
              "      <td>NaN</td>\n",
              "      <td>NaN</td>\n",
              "      <td>NaN</td>\n",
              "      <td>NaN</td>\n",
              "      <td>NaN</td>\n",
              "      <td>NaN</td>\n",
              "    </tr>\n",
              "    <tr>\n",
              "      <th>last</th>\n",
              "      <td>NaN</td>\n",
              "      <td>2018-06-19 00:00:00</td>\n",
              "      <td>NaN</td>\n",
              "      <td>NaN</td>\n",
              "      <td>NaN</td>\n",
              "      <td>NaN</td>\n",
              "      <td>NaN</td>\n",
              "      <td>NaN</td>\n",
              "      <td>NaN</td>\n",
              "      <td>NaN</td>\n",
              "      <td>NaN</td>\n",
              "      <td>NaN</td>\n",
              "      <td>NaN</td>\n",
              "    </tr>\n",
              "    <tr>\n",
              "      <th>mean</th>\n",
              "      <td>88791.293876</td>\n",
              "      <td>NaN</td>\n",
              "      <td>1431.330619</td>\n",
              "      <td>2.969599</td>\n",
              "      <td>NaN</td>\n",
              "      <td>125.926951</td>\n",
              "      <td>125.912714</td>\n",
              "      <td>3.698290</td>\n",
              "      <td>3.699099</td>\n",
              "      <td>8.600560</td>\n",
              "      <td>8.599192</td>\n",
              "      <td>22.629033</td>\n",
              "      <td>22.629282</td>\n",
              "    </tr>\n",
              "    <tr>\n",
              "      <th>std</th>\n",
              "      <td>7647.342000</td>\n",
              "      <td>NaN</td>\n",
              "      <td>33.212050</td>\n",
              "      <td>2.008378</td>\n",
              "      <td>NaN</td>\n",
              "      <td>185.426579</td>\n",
              "      <td>185.501535</td>\n",
              "      <td>5.815058</td>\n",
              "      <td>5.824634</td>\n",
              "      <td>12.870098</td>\n",
              "      <td>12.868993</td>\n",
              "      <td>52.120263</td>\n",
              "      <td>52.146030</td>\n",
              "    </tr>\n",
              "    <tr>\n",
              "      <th>min</th>\n",
              "      <td>75001.000000</td>\n",
              "      <td>NaN</td>\n",
              "      <td>1174.000000</td>\n",
              "      <td>0.000000</td>\n",
              "      <td>NaN</td>\n",
              "      <td>0.000000</td>\n",
              "      <td>0.000000</td>\n",
              "      <td>0.000000</td>\n",
              "      <td>0.000000</td>\n",
              "      <td>0.000000</td>\n",
              "      <td>0.000000</td>\n",
              "      <td>0.000000</td>\n",
              "      <td>0.000000</td>\n",
              "    </tr>\n",
              "    <tr>\n",
              "      <th>25%</th>\n",
              "      <td>91330.000000</td>\n",
              "      <td>NaN</td>\n",
              "      <td>1439.000000</td>\n",
              "      <td>1.000000</td>\n",
              "      <td>NaN</td>\n",
              "      <td>20.000000</td>\n",
              "      <td>20.000000</td>\n",
              "      <td>0.000000</td>\n",
              "      <td>0.000000</td>\n",
              "      <td>1.000000</td>\n",
              "      <td>1.000000</td>\n",
              "      <td>0.000000</td>\n",
              "      <td>0.000000</td>\n",
              "    </tr>\n",
              "    <tr>\n",
              "      <th>50%</th>\n",
              "      <td>92340.000000</td>\n",
              "      <td>NaN</td>\n",
              "      <td>1440.000000</td>\n",
              "      <td>3.000000</td>\n",
              "      <td>NaN</td>\n",
              "      <td>46.000000</td>\n",
              "      <td>46.000000</td>\n",
              "      <td>1.000000</td>\n",
              "      <td>1.000000</td>\n",
              "      <td>3.000000</td>\n",
              "      <td>3.000000</td>\n",
              "      <td>0.000000</td>\n",
              "      <td>0.000000</td>\n",
              "    </tr>\n",
              "    <tr>\n",
              "      <th>75%</th>\n",
              "      <td>93400.000000</td>\n",
              "      <td>NaN</td>\n",
              "      <td>1440.000000</td>\n",
              "      <td>5.000000</td>\n",
              "      <td>NaN</td>\n",
              "      <td>135.000000</td>\n",
              "      <td>135.000000</td>\n",
              "      <td>4.000000</td>\n",
              "      <td>4.000000</td>\n",
              "      <td>10.000000</td>\n",
              "      <td>10.000000</td>\n",
              "      <td>5.000000</td>\n",
              "      <td>5.000000</td>\n",
              "    </tr>\n",
              "    <tr>\n",
              "      <th>max</th>\n",
              "      <td>95880.000000</td>\n",
              "      <td>NaN</td>\n",
              "      <td>1440.000000</td>\n",
              "      <td>6.000000</td>\n",
              "      <td>NaN</td>\n",
              "      <td>1352.000000</td>\n",
              "      <td>1332.000000</td>\n",
              "      <td>54.000000</td>\n",
              "      <td>58.000000</td>\n",
              "      <td>100.000000</td>\n",
              "      <td>101.000000</td>\n",
              "      <td>360.000000</td>\n",
              "      <td>359.000000</td>\n",
              "    </tr>\n",
              "  </tbody>\n",
              "</table>\n",
              "</div>"
            ],
            "text/plain": [
              "         Postal code                 date  ...  Slots_freed_sum  Slots_taken_sum\n",
              "count   16085.000000                16085  ...     16085.000000     16085.000000\n",
              "unique           NaN                  156  ...              NaN              NaN\n",
              "top              NaN  2018-06-12 00:00:00  ...              NaN              NaN\n",
              "freq             NaN                  104  ...              NaN              NaN\n",
              "first            NaN  2018-01-01 00:00:00  ...              NaN              NaN\n",
              "last             NaN  2018-06-19 00:00:00  ...              NaN              NaN\n",
              "mean    88791.293876                  NaN  ...        22.629033        22.629282\n",
              "std      7647.342000                  NaN  ...        52.120263        52.146030\n",
              "min     75001.000000                  NaN  ...         0.000000         0.000000\n",
              "25%     91330.000000                  NaN  ...         0.000000         0.000000\n",
              "50%     92340.000000                  NaN  ...         0.000000         0.000000\n",
              "75%     93400.000000                  NaN  ...         5.000000         5.000000\n",
              "max     95880.000000                  NaN  ...       360.000000       359.000000\n",
              "\n",
              "[13 rows x 13 columns]"
            ]
          },
          "metadata": {
            "tags": []
          },
          "execution_count": 9
        }
      ]
    },
    {
      "cell_type": "code",
      "metadata": {
        "id": "sxo78jlZe9Xq",
        "colab_type": "code",
        "colab": {
          "base_uri": "https://localhost:8080/",
          "height": 372
        },
        "outputId": "737633d3-53f8-426a-dd0e-500583b0d37b"
      },
      "source": [
        "# Getting info about the dataset\n",
        "Auto_df.info()"
      ],
      "execution_count": 10,
      "outputs": [
        {
          "output_type": "stream",
          "text": [
            "<class 'pandas.core.frame.DataFrame'>\n",
            "RangeIndex: 16085 entries, 0 to 16084\n",
            "Data columns (total 13 columns):\n",
            " #   Column                  Non-Null Count  Dtype         \n",
            "---  ------                  --------------  -----         \n",
            " 0   Postal code             16085 non-null  int64         \n",
            " 1   date                    16085 non-null  datetime64[ns]\n",
            " 2   n_daily_data_points     16085 non-null  int64         \n",
            " 3   dayOfWeek               16085 non-null  int64         \n",
            " 4   day_type                16085 non-null  object        \n",
            " 5   BlueCars_taken_sum      16085 non-null  int64         \n",
            " 6   BlueCars_returned_sum   16085 non-null  int64         \n",
            " 7   Utilib_taken_sum        16085 non-null  int64         \n",
            " 8   Utilib_returned_sum     16085 non-null  int64         \n",
            " 9   Utilib_14_taken_sum     16085 non-null  int64         \n",
            " 10  Utilib_14_returned_sum  16085 non-null  int64         \n",
            " 11  Slots_freed_sum         16085 non-null  int64         \n",
            " 12  Slots_taken_sum         16085 non-null  int64         \n",
            "dtypes: datetime64[ns](1), int64(11), object(1)\n",
            "memory usage: 1.6+ MB\n"
          ],
          "name": "stdout"
        }
      ]
    },
    {
      "cell_type": "code",
      "metadata": {
        "id": "P3s5bur-fvtF",
        "colab_type": "code",
        "colab": {
          "base_uri": "https://localhost:8080/",
          "height": 105
        },
        "outputId": "3d00ce93-334f-4d03-9b07-bbc58f3f19b1"
      },
      "source": [
        "# Changing all the columns to lowercase\n",
        "Auto_df.columns = Auto_df.columns.str.lower().str.replace(' ', '_').str.replace('(', '').str.replace(')', '')\n",
        "Auto_df.columns"
      ],
      "execution_count": 11,
      "outputs": [
        {
          "output_type": "execute_result",
          "data": {
            "text/plain": [
              "Index(['postal_code', 'date', 'n_daily_data_points', 'dayofweek', 'day_type',\n",
              "       'bluecars_taken_sum', 'bluecars_returned_sum', 'utilib_taken_sum',\n",
              "       'utilib_returned_sum', 'utilib_14_taken_sum', 'utilib_14_returned_sum',\n",
              "       'slots_freed_sum', 'slots_taken_sum'],\n",
              "      dtype='object')"
            ]
          },
          "metadata": {
            "tags": []
          },
          "execution_count": 11
        }
      ]
    },
    {
      "cell_type": "markdown",
      "metadata": {
        "id": "7VbivNW8C-q3",
        "colab_type": "text"
      },
      "source": [
        "#4.External Data Source Validation"
      ]
    },
    {
      "cell_type": "markdown",
      "metadata": {
        "id": "nfXsNYp1DPoA",
        "colab_type": "text"
      },
      "source": [
        "The data source was got from Moringa School LMS which I believe was originally obtained from this link below:https://opendata.paris.fr/explore/?refine.theme=Equipements,+Services,+Social&disjunctive.theme&disjunctive.publisher&disjunctive.keyword&disjunctive.modified&disjunctive.features&sort=modified&refine.modified=2017&refine.modified=2019\n",
        "The page a reliable site with very accurate information making our data valid"
      ]
    },
    {
      "cell_type": "markdown",
      "metadata": {
        "id": "m-WpRLfOMc8Q",
        "colab_type": "text"
      },
      "source": [
        "##a) Validation"
      ]
    },
    {
      "cell_type": "markdown",
      "metadata": {
        "id": "kEAiJIqZMnyK",
        "colab_type": "text"
      },
      "source": [
        "#5.Tidying the dataset"
      ]
    },
    {
      "cell_type": "code",
      "metadata": {
        "id": "S8xoO5I8MVUG",
        "colab_type": "code",
        "colab": {
          "base_uri": "https://localhost:8080/",
          "height": 0
        },
        "outputId": "d56d41a6-ba07-465e-9234-aa012f0bfd9a"
      },
      "source": [
        "#Checking for outliers\n",
        "\n",
        "sns.boxplot(x=Auto_df['n_daily_data_points'])"
      ],
      "execution_count": 12,
      "outputs": [
        {
          "output_type": "execute_result",
          "data": {
            "text/plain": [
              "<matplotlib.axes._subplots.AxesSubplot at 0x7fa37cb48710>"
            ]
          },
          "metadata": {
            "tags": []
          },
          "execution_count": 12
        },
        {
          "output_type": "display_data",
          "data": {
            "image/png": "[encoded data removed]",
            "text/plain": [
              "<Figure size 432x288 with 1 Axes>"
            ]
          },
          "metadata": {
            "tags": [],
            "needs_background": "light"
          }
        }
      ]
    },
    {
      "cell_type": "code",
      "metadata": {
        "id": "f6MrnWzPgYiR",
        "colab_type": "code",
        "colab": {
          "base_uri": "https://localhost:8080/",
          "height": 0
        },
        "outputId": "3c983dcd-230e-451d-9f56-a33ae0157d9b"
      },
      "source": [
        "#Checking for outliers in the dayofWeek column\n",
        "\n",
        "sns.boxplot(x=Auto_df['dayofweek'])"
      ],
      "execution_count": 13,
      "outputs": [
        {
          "output_type": "execute_result",
          "data": {
            "text/plain": [
              "<matplotlib.axes._subplots.AxesSubplot at 0x7fa3718c0d30>"
            ]
          },
          "metadata": {
            "tags": []
          },
          "execution_count": 13
        },
        {
          "output_type": "display_data",
          "data": {
            "image/png": "[encoded data removed]",
            "text/plain": [
              "<Figure size 432x288 with 1 Axes>"
            ]
          },
          "metadata": {
            "tags": [],
            "needs_background": "light"
          }
        }
      ]
    },
    {
      "cell_type": "code",
      "metadata": {
        "id": "VTGzq6wghPvW",
        "colab_type": "code",
        "colab": {
          "base_uri": "https://localhost:8080/",
          "height": 0
        },
        "outputId": "2f42a3f9-d3cb-4801-890d-9526e4ddec18"
      },
      "source": [
        "#Checking for outliers in the BlueCars_taken_sum\n",
        "\n",
        "sns.boxplot(x=Auto_df['bluecars_taken_sum'])"
      ],
      "execution_count": 14,
      "outputs": [
        {
          "output_type": "execute_result",
          "data": {
            "text/plain": [
              "<matplotlib.axes._subplots.AxesSubplot at 0x7fa3713e6a90>"
            ]
          },
          "metadata": {
            "tags": []
          },
          "execution_count": 14
        },
        {
          "output_type": "display_data",
          "data": {
            "image/png": "[encoded data removed]",
            "text/plain": [
              "<Figure size 432x288 with 1 Axes>"
            ]
          },
          "metadata": {
            "tags": [],
            "needs_background": "light"
          }
        }
      ]
    },
    {
      "cell_type": "code",
      "metadata": {
        "id": "_NQv60johlxB",
        "colab_type": "code",
        "colab": {
          "base_uri": "https://localhost:8080/",
          "height": 0
        },
        "outputId": "8eb4a6b3-0200-49ea-83e9-cdc20a9b4e2d"
      },
      "source": [
        "#Checking for outliers in the BlueCars_returned_sum\n",
        "\n",
        "sns.boxplot(x=Auto_df['bluecars_returned_sum'])"
      ],
      "execution_count": 15,
      "outputs": [
        {
          "output_type": "execute_result",
          "data": {
            "text/plain": [
              "<matplotlib.axes._subplots.AxesSubplot at 0x7fa371353dd8>"
            ]
          },
          "metadata": {
            "tags": []
          },
          "execution_count": 15
        },
        {
          "output_type": "display_data",
          "data": {
            "image/png": "[encoded data removed]",
            "text/plain": [
              "<Figure size 432x288 with 1 Axes>"
            ]
          },
          "metadata": {
            "tags": [],
            "needs_background": "light"
          }
        }
      ]
    },
    {
      "cell_type": "code",
      "metadata": {
        "id": "sVARCOXZh3jD",
        "colab_type": "code",
        "colab": {
          "base_uri": "https://localhost:8080/",
          "height": 0
        },
        "outputId": "ef88442e-5f2e-4fd1-db2d-41c2a78dfa09"
      },
      "source": [
        "#Checking for outliers in the Utilib_taken_sum\n",
        "\n",
        "sns.boxplot(x=Auto_df['utilib_taken_sum'])"
      ],
      "execution_count": 16,
      "outputs": [
        {
          "output_type": "execute_result",
          "data": {
            "text/plain": [
              "<matplotlib.axes._subplots.AxesSubplot at 0x7fa371329b00>"
            ]
          },
          "metadata": {
            "tags": []
          },
          "execution_count": 16
        },
        {
          "output_type": "display_data",
          "data": {
            "image/png": "[encoded data removed]",
            "text/plain": [
              "<Figure size 432x288 with 1 Axes>"
            ]
          },
          "metadata": {
            "tags": [],
            "needs_background": "light"
          }
        }
      ]
    },
    {
      "cell_type": "code",
      "metadata": {
        "id": "rl46Ja3cinFC",
        "colab_type": "code",
        "colab": {
          "base_uri": "https://localhost:8080/",
          "height": 0
        },
        "outputId": "a830c3f2-1c2c-495d-fdec-4f13309a877f"
      },
      "source": [
        "#Checking for outliers in the Utilib_returned_sum\n",
        "\n",
        "sns.boxplot(x=Auto_df['utilib_returned_sum'])"
      ],
      "execution_count": 17,
      "outputs": [
        {
          "output_type": "execute_result",
          "data": {
            "text/plain": [
              "<matplotlib.axes._subplots.AxesSubplot at 0x7fa3712a4d68>"
            ]
          },
          "metadata": {
            "tags": []
          },
          "execution_count": 17
        },
        {
          "output_type": "display_data",
          "data": {
            "image/png": "[encoded data removed]",
            "text/plain": [
              "<Figure size 432x288 with 1 Axes>"
            ]
          },
          "metadata": {
            "tags": [],
            "needs_background": "light"
          }
        }
      ]
    },
    {
      "cell_type": "code",
      "metadata": {
        "id": "ahXj_BUPi7KI",
        "colab_type": "code",
        "colab": {
          "base_uri": "https://localhost:8080/",
          "height": 0
        },
        "outputId": "57600d97-ff5b-4b84-ca69-c8bdafc958e9"
      },
      "source": [
        "#Checking for outliers in the Utilib_14_taken_sum\n",
        "\n",
        "sns.boxplot(x=Auto_df['utilib_14_taken_sum'])"
      ],
      "execution_count": 18,
      "outputs": [
        {
          "output_type": "execute_result",
          "data": {
            "text/plain": [
              "<matplotlib.axes._subplots.AxesSubplot at 0x7fa371287240>"
            ]
          },
          "metadata": {
            "tags": []
          },
          "execution_count": 18
        },
        {
          "output_type": "display_data",
          "data": {
            "image/png": "[encoded data removed]",
            "text/plain": [
              "<Figure size 432x288 with 1 Axes>"
            ]
          },
          "metadata": {
            "tags": [],
            "needs_background": "light"
          }
        }
      ]
    },
    {
      "cell_type": "code",
      "metadata": {
        "id": "X56IosZwjRzn",
        "colab_type": "code",
        "colab": {
          "base_uri": "https://localhost:8080/",
          "height": 0
        },
        "outputId": "8127caf8-d00d-486d-ce7a-99836d2bdf29"
      },
      "source": [
        "#Checking for outliers in the Utilib_14_returned_sum column\n",
        "\n",
        "sns.boxplot(x=Auto_df['utilib_14_returned_sum'])"
      ],
      "execution_count": 19,
      "outputs": [
        {
          "output_type": "execute_result",
          "data": {
            "text/plain": [
              "<matplotlib.axes._subplots.AxesSubplot at 0x7fa3711ecc50>"
            ]
          },
          "metadata": {
            "tags": []
          },
          "execution_count": 19
        },
        {
          "output_type": "display_data",
          "data": {
            "image/png": "[encoded data removed]",
            "text/plain": [
              "<Figure size 432x288 with 1 Axes>"
            ]
          },
          "metadata": {
            "tags": [],
            "needs_background": "light"
          }
        }
      ]
    },
    {
      "cell_type": "code",
      "metadata": {
        "id": "uaSsXxbQlsL5",
        "colab_type": "code",
        "colab": {
          "base_uri": "https://localhost:8080/",
          "height": 0
        },
        "outputId": "77db99eb-9f1f-453e-f74b-4c40e03e9c75"
      },
      "source": [
        "#Checking for outliers in the Slots_freed_sum \n",
        "\n",
        "sns.boxplot(x=Auto_df['slots_freed_sum'])"
      ],
      "execution_count": 20,
      "outputs": [
        {
          "output_type": "execute_result",
          "data": {
            "text/plain": [
              "<matplotlib.axes._subplots.AxesSubplot at 0x7fa371151390>"
            ]
          },
          "metadata": {
            "tags": []
          },
          "execution_count": 20
        },
        {
          "output_type": "display_data",
          "data": {
            "image/png": "[encoded data removed]",
            "text/plain": [
              "<Figure size 432x288 with 1 Axes>"
            ]
          },
          "metadata": {
            "tags": [],
            "needs_background": "light"
          }
        }
      ]
    },
    {
      "cell_type": "code",
      "metadata": {
        "id": "A6N--3iTmEo-",
        "colab_type": "code",
        "colab": {
          "base_uri": "https://localhost:8080/",
          "height": 0
        },
        "outputId": "ddc7caac-4bdb-408b-b04d-5fe06f4bee2b"
      },
      "source": [
        "# Checking for outliers in the Slots_taken_sum\n",
        "\n",
        "sns.boxplot(x=Auto_df['slots_taken_sum'])"
      ],
      "execution_count": 21,
      "outputs": [
        {
          "output_type": "execute_result",
          "data": {
            "text/plain": [
              "<matplotlib.axes._subplots.AxesSubplot at 0x7fa3711397b8>"
            ]
          },
          "metadata": {
            "tags": []
          },
          "execution_count": 21
        },
        {
          "output_type": "display_data",
          "data": {
            "image/png": "[encoded data removed]",
            "text/plain": [
              "<Figure size 432x288 with 1 Axes>"
            ]
          },
          "metadata": {
            "tags": [],
            "needs_background": "light"
          }
        }
      ]
    },
    {
      "cell_type": "code",
      "metadata": {
        "id": "W_HdKBc6tR6t",
        "colab_type": "code",
        "colab": {
          "base_uri": "https://localhost:8080/",
          "height": 0
        },
        "outputId": "c77ff709-aecd-41a1-b387-ec3139e53770"
      },
      "source": [
        "#Checking for duplicates\n",
        "Auto_df.duplicated().any()"
      ],
      "execution_count": 22,
      "outputs": [
        {
          "output_type": "execute_result",
          "data": {
            "text/plain": [
              "False"
            ]
          },
          "metadata": {
            "tags": []
          },
          "execution_count": 22
        }
      ]
    },
    {
      "cell_type": "code",
      "metadata": {
        "id": "j16fpxye5qKU",
        "colab_type": "code",
        "colab": {
          "base_uri": "https://localhost:8080/",
          "height": 0
        },
        "outputId": "fdbacca9-6bde-44e8-d646-ee38d4bd7f79"
      },
      "source": [
        "#Removing outliers\n",
        "def percentile_based_outlier(data, threshold=95):\n",
        "    diff = (100 - threshold) / 2\n",
        "    minval, maxval = np.percentile(data, [diff, 100 - diff])\n",
        "    return (data < minval) | (data > maxval)\n",
        "\n",
        "col_names = ['n_daily_data_points','bluecars_taken_sum','bluecars_returned_sum', 'utilib_taken_sum', 'utilib_returned_sum', 'utilib_14_taken_sum', 'utilib_14_returned_sum','slots_freed_sum', 'slots_taken_sum']\n",
        "\n",
        "fig, ax = plt.subplots(len(col_names), figsize=(8,10))\n",
        "\n",
        "for i, col_val in enumerate(col_names):\n",
        "    x = Auto_df[col_val][:1000]\n",
        "    sns.distplot(x, ax=ax[i], rug=True, hist=False)\n",
        "    outliers = x[percentile_based_outlier(x)]\n",
        "    ax[i].plot(outliers, np.zeros_like(outliers), 'ro', clip_on=False)\n",
        "\n",
        "    ax[i].set_title('Outlier detection - {}'.format(col_val), fontsize=10)\n",
        "    ax[i].set_xlabel(col_val, fontsize=8)\n",
        "\n",
        "plt.show()"
      ],
      "execution_count": 23,
      "outputs": [
        {
          "output_type": "display_data",
          "data": {
            "image/png": "[encoded data removed]",
            "text/plain": [
              "<Figure size 576x720 with 9 Axes>"
            ]
          },
          "metadata": {
            "tags": [],
            "needs_background": "light"
          }
        }
      ]
    },
    {
      "cell_type": "code",
      "metadata": {
        "id": "OnRC9Emz7ncl",
        "colab_type": "code",
        "colab": {
          "base_uri": "https://localhost:8080/",
          "height": 0
        },
        "outputId": "ca238738-bfa3-4736-8627-ce9080d6ce90"
      },
      "source": [
        "#Checking for anomalies\n",
        "data = Auto_df['n_daily_data_points']\n",
        "Q1 = np.quantile(data,0.25)\n",
        "Q3 = np.quantile(data,0.75)\n",
        "IQR = Q3 - Q1\n",
        "print(IQR,':n_daily_data_points')\n",
        "\n",
        "data = Auto_df['bluecars_taken_sum']\n",
        "Q1 = np.quantile(data,0.25)\n",
        "Q3 = np.quantile(data,0.75)\n",
        "IQR = Q3 - Q1\n",
        "print(IQR,':bluecars_taken_sum')\n",
        "\n",
        "data = Auto_df['bluecars_returned_sum']\n",
        "Q1 = np.quantile(data,0.25)\n",
        "Q3 = np.quantile(data,0.75)\n",
        "IQR = Q3 - Q1\n",
        "print(IQR,':bluecars_returned_sum')\n",
        "\n",
        "data = Auto_df['utilib_taken_sum']\n",
        "Q1 = np.quantile(data,0.25)\n",
        "Q3 = np.quantile(data,0.75)\n",
        "IQR = Q3 - Q1\n",
        "print(IQR,':Utilib_taken_sum')\n",
        "\n",
        "data = Auto_df['utilib_returned_sum']\n",
        "Q1 = np.quantile(data,0.25)\n",
        "Q3 = np.quantile(data,0.75)\n",
        "IQR = Q3 - Q1\n",
        "print(IQR,':Utilib_returned_sum')\n",
        "\n",
        "data=Auto_df['utilib_14_taken_sum']\n",
        "Q1 = np.quantile(data,0.25)\n",
        "Q3 = np.quantile(data,0.75)\n",
        "IQR = Q3 - Q1\n",
        "print(IQR,'Utilib_14_taken_sum')\n",
        "\n",
        "data=Auto_df['utilib_14_returned_sum']\n",
        "Q1 = np.quantile(data,0.25)\n",
        "Q3 = np.quantile(data,0.75)\n",
        "IQR = Q3 - Q1\n",
        "print(IQR,':Utilib_14_returned_sum')\n",
        "\n",
        "data = Auto_df['slots_taken_sum']\n",
        "Q1 = np.quantile(data,0.25)\n",
        "Q3 = np.quantile(data,0.75)\n",
        "IQR = Q3 - Q1\n",
        "print(IQR,':Slots_taken_sum')\n",
        "\n",
        "data =Auto_df['slots_freed_sum']\n",
        "Q1 = np.quantile(data,0.25)\n",
        "Q3 = np.quantile(data,0.75)\n",
        "IQR = Q3 - Q1\n",
        "print(IQR,':Slots_freed_sum')\n"
      ],
      "execution_count": 24,
      "outputs": [
        {
          "output_type": "stream",
          "text": [
            "1.0 :n_daily_data_points\n",
            "115.0 :bluecars_taken_sum\n",
            "115.0 :bluecars_returned_sum\n",
            "4.0 :Utilib_taken_sum\n",
            "4.0 :Utilib_returned_sum\n",
            "9.0 Utilib_14_taken_sum\n",
            "9.0 :Utilib_14_returned_sum\n",
            "5.0 :Slots_taken_sum\n",
            "5.0 :Slots_freed_sum\n"
          ],
          "name": "stdout"
        }
      ]
    },
    {
      "cell_type": "markdown",
      "metadata": {
        "id": "QSPTXISYGjPa",
        "colab_type": "text"
      },
      "source": [
        "#Univariate Analysis"
      ]
    },
    {
      "cell_type": "code",
      "metadata": {
        "id": "BMcoYbR9-nU-",
        "colab_type": "code",
        "colab": {
          "base_uri": "https://localhost:8080/",
          "height": 0
        },
        "outputId": "804c4328-5178-4781-8022-a505aec0e324"
      },
      "source": [
        "#Displaying a histogram on daily_data_points columns\n",
        "\n",
        "sns.distplot(Auto_df.n_daily_data_points.dropna());"
      ],
      "execution_count": 25,
      "outputs": [
        {
          "output_type": "display_data",
          "data": {
            "image/png": "[encoded data removed]",
            "text/plain": [
              "<Figure size 432x288 with 1 Axes>"
            ]
          },
          "metadata": {
            "tags": [],
            "needs_background": "light"
          }
        }
      ]
    },
    {
      "cell_type": "code",
      "metadata": {
        "id": "-xzq6QjvAy-o",
        "colab_type": "code",
        "colab": {
          "base_uri": "https://localhost:8080/",
          "height": 0
        },
        "outputId": "bf8bc634-ebbb-4628-89c1-7e6d7a8beb11"
      },
      "source": [
        "#Displaying area chart for postal code\n",
        "\n",
        "Auto_df['postal_code'].value_counts().sort_index().plot.area()\n",
        "\n"
      ],
      "execution_count": 26,
      "outputs": [
        {
          "output_type": "execute_result",
          "data": {
            "text/plain": [
              "<matplotlib.axes._subplots.AxesSubplot at 0x7fa36c7ee710>"
            ]
          },
          "metadata": {
            "tags": []
          },
          "execution_count": 26
        },
        {
          "output_type": "display_data",
          "data": {
            "image/png": "[encoded data removed]",
            "text/plain": [
              "<Figure size 432x288 with 1 Axes>"
            ]
          },
          "metadata": {
            "tags": [],
            "needs_background": "light"
          }
        }
      ]
    },
    {
      "cell_type": "code",
      "metadata": {
        "id": "FTax2VuzBtfa",
        "colab_type": "code",
        "colab": {
          "base_uri": "https://localhost:8080/",
          "height": 0
        },
        "outputId": "2dfcb497-8f6f-465e-8ca3-cbf1f1213cd5"
      },
      "source": [
        "plt.figure(figsize = (13,4))\n",
        "\n",
        "sns.countplot(Auto_df['postal_code'].dropna(), order = Auto_df['postal_code'].value_counts(). index)\n",
        "plt.title('postal_code')"
      ],
      "execution_count": 27,
      "outputs": [
        {
          "output_type": "execute_result",
          "data": {
            "text/plain": [
              "Text(0.5, 1.0, 'postal_code')"
            ]
          },
          "metadata": {
            "tags": []
          },
          "execution_count": 27
        },
        {
          "output_type": "display_data",
          "data": {
            "image/png": "[encoded data removed]",
            "text/plain": [
              "<Figure size 936x288 with 1 Axes>"
            ]
          },
          "metadata": {
            "tags": [],
            "needs_background": "light"
          }
        }
      ]
    },
    {
      "cell_type": "code",
      "metadata": {
        "id": "SYhhGCk2CqUT",
        "colab_type": "code",
        "colab": {
          "base_uri": "https://localhost:8080/",
          "height": 0
        },
        "outputId": "c9500a6f-21f5-4610-82eb-fb0d89c46a41"
      },
      "source": [
        "plt.figure(figsize = (13,4))\n",
        "sns.countplot(Auto_df['day_type'].dropna(), order = Auto_df['day_type'].value_counts().index)\n",
        "plt.title('Type of day')"
      ],
      "execution_count": 28,
      "outputs": [
        {
          "output_type": "execute_result",
          "data": {
            "text/plain": [
              "Text(0.5, 1.0, 'Type of day')"
            ]
          },
          "metadata": {
            "tags": []
          },
          "execution_count": 28
        },
        {
          "output_type": "display_data",
          "data": {
            "image/png": "[encoded data removed]",
            "text/plain": [
              "<Figure size 936x288 with 1 Axes>"
            ]
          },
          "metadata": {
            "tags": [],
            "needs_background": "light"
          }
        }
      ]
    },
    {
      "cell_type": "code",
      "metadata": {
        "id": "nTOfKRRA_UBz",
        "colab_type": "code",
        "colab": {
          "base_uri": "https://localhost:8080/",
          "height": 0
        },
        "outputId": "07f8e4e5-4fb4-45c9-844b-60126f0a39b9"
      },
      "source": [
        "#Displaying a histogram on dayOfWeek column\n",
        "\n",
        "plt.figure(figsize = (13,4))\n",
        "\n",
        "sns.countplot(Auto_df['dayofweek'].dropna(), order = Auto_df['dayofweek'].value_counts(). index);\n",
        "plt.xticks(rotation = 90);\n",
        "plt.title('Days of the week')"
      ],
      "execution_count": 29,
      "outputs": [
        {
          "output_type": "execute_result",
          "data": {
            "text/plain": [
              "Text(0.5, 1.0, 'Days of the week')"
            ]
          },
          "metadata": {
            "tags": []
          },
          "execution_count": 29
        },
        {
          "output_type": "display_data",
          "data": {
            "image/png": "[encoded data removed]",
            "text/plain": [
              "<Figure size 936x288 with 1 Axes>"
            ]
          },
          "metadata": {
            "tags": [],
            "needs_background": "light"
          }
        }
      ]
    },
    {
      "cell_type": "code",
      "metadata": {
        "id": "VRb79H32DJQm",
        "colab_type": "code",
        "colab": {
          "base_uri": "https://localhost:8080/",
          "height": 0
        },
        "outputId": "5a27f739-7716-499a-9de3-54251257f0cc"
      },
      "source": [
        "#Exploratory Analysis\n",
        "\n",
        "#Displaying household size, age and year variables\n",
        "col_names = ['bluecars_taken_sum','bluecars_returned_sum',\n",
        "             'utilib_taken_sum','utilib_returned_sum',\n",
        "             'utilib_14_taken_sum','utilib_14_returned_sum',\n",
        "             'slots_freed_sum','slots_taken_sum']\n",
        "\n",
        "fig, ax = plt.subplots(len(col_names), figsize=(16,12))\n",
        "\n",
        "for i, col_val in enumerate(col_names):\n",
        "\n",
        "    sns.distplot(Auto_df[col_val], hist=True, ax=ax[i])\n",
        "    ax[i].set_title('Freq dist '+col_val, fontsize=10)\n",
        "    ax[i].set_xlabel(col_val, fontsize=8)\n",
        "    ax[i].set_ylabel('Count', fontsize=8)\n",
        "\n",
        "plt.show()"
      ],
      "execution_count": 30,
      "outputs": [
        {
          "output_type": "display_data",
          "data": {
            "image/png": "[encoded data removed]",
            "text/plain": [
              "<Figure size 1152x864 with 8 Axes>"
            ]
          },
          "metadata": {
            "tags": [],
            "needs_background": "light"
          }
        }
      ]
    },
    {
      "cell_type": "markdown",
      "metadata": {
        "id": "7WrfZb7l_wsX",
        "colab_type": "text"
      },
      "source": [
        "The variables above are all right-skewed meaning positive skewness"
      ]
    },
    {
      "cell_type": "markdown",
      "metadata": {
        "id": "7TWgAXGWIqFt",
        "colab_type": "text"
      },
      "source": [
        "#Multivariate Analysis"
      ]
    },
    {
      "cell_type": "code",
      "metadata": {
        "id": "66xRyATAGrUO",
        "colab_type": "code",
        "colab": {
          "base_uri": "https://localhost:8080/",
          "height": 0
        },
        "outputId": "ac038f76-177c-44fc-fc96-17398e07631f"
      },
      "source": [
        "#Showign the correlations of different variables to each other\n",
        "\n",
        "plt.figure(figsize=(12, 8))\n",
        "\n",
        "auto_corr = Auto_df.corr()\n",
        "sns.heatmap(auto_corr, \n",
        "            xticklabels = auto_corr.columns.values,\n",
        "            yticklabels = auto_corr.columns.values,\n",
        "            annot = True);"
      ],
      "execution_count": 31,
      "outputs": [
        {
          "output_type": "display_data",
          "data": {
            "image/png": "[encoded data removed]",
            "text/plain": [
              "<Figure size 864x576 with 2 Axes>"
            ]
          },
          "metadata": {
            "tags": [],
            "needs_background": "light"
          }
        }
      ]
    },
    {
      "cell_type": "code",
      "metadata": {
        "id": "3zRjT4f0T1wC",
        "colab_type": "code",
        "colab": {
          "base_uri": "https://localhost:8080/",
          "height": 0
        },
        "outputId": "dca5b3e2-03a0-44e3-c6c4-89c7807ff96f"
      },
      "source": [
        "#Which car is more prefered car taken()\n",
        "\n",
        "#fig, ax = plt.subplots()\n",
        "#ax.set_color_cycle(['red', 'black', 'yellow']) \n",
        "\n",
        "all_cars= [Auto_df.bluecars_taken_sum.mean(),\n",
        "           Auto_df.utilib_taken_sum.mean(),\n",
        "           Auto_df.utilib_14_taken_sum.mean()]\n",
        "\n",
        "titles = ['BlueCars', 'Utilib', 'Utilib_14']\n",
        "\n",
        "#Creating a bar grapph\n",
        "\n",
        "plt.bar(titles, all_cars, color = 'cyan')\n",
        "plt.xlabel('car type')\n",
        "plt.ylabel('number of cars')\n",
        "plt.title('Most preffered cars')\n",
        "plt.show()"
      ],
      "execution_count": 32,
      "outputs": [
        {
          "output_type": "display_data",
          "data": {
            "image/png": "[encoded data removed]",
            "text/plain": [
              "<Figure size 432x288 with 1 Axes>"
            ]
          },
          "metadata": {
            "tags": [],
            "needs_background": "light"
          }
        }
      ]
    },
    {
      "cell_type": "code",
      "metadata": {
        "id": "Q0HmuAtdkzUY",
        "colab_type": "code",
        "colab": {
          "base_uri": "https://localhost:8080/",
          "height": 0
        },
        "outputId": "0b44b392-9efd-4a74-c9a0-b502b751ba74"
      },
      "source": [
        "#Which number of cars were mostly returned to the station\n",
        "\n",
        "all_cars= [Auto_df.bluecars_returned_sum.mean(),\n",
        "           Auto_df.utilib_returned_sum.mean(),\n",
        "           Auto_df.utilib_14_returned_sum.mean()]\n",
        "\n",
        "titles = ['BlueCars', 'Utilib', 'Utilib_14']\n",
        "\n",
        "#Creating a bar grapph\n",
        "\n",
        "plt.bar(titles, all_cars, color = 'purple')\n",
        "plt.title('Most preffered cars')\n",
        "plt.show()"
      ],
      "execution_count": 33,
      "outputs": [
        {
          "output_type": "display_data",
          "data": {
            "image/png": "[encoded data removed]",
            "text/plain": [
              "<Figure size 432x288 with 1 Axes>"
            ]
          },
          "metadata": {
            "tags": [],
            "needs_background": "light"
          }
        }
      ]
    },
    {
      "cell_type": "code",
      "metadata": {
        "id": "8osgbsztmKtz",
        "colab_type": "code",
        "colab": {
          "base_uri": "https://localhost:8080/",
          "height": 0
        },
        "outputId": "27da3fef-a6e3-4341-99f7-b6e16c01e9f8"
      },
      "source": [
        "#THe taken cars both weekends and weekdays\n",
        "\n",
        "weekday= Auto_df.day_type == 'weekday'\n",
        "\n",
        "weekend = Auto_df.day_type == 'weekend'\n",
        "\n",
        "Bluecars=Auto_df.bluecars_taken_sum.mean()\n",
        "print(Bluecars)\n",
        "Utilib=Auto_df.utilib_taken_sum.mean()\n",
        "Utilib_14=Auto_df.utilib_14_taken_sum.mean()\n",
        "\n",
        "plt.stackplot(weekday,Bluecars,Utilib,Utilib_14, colors=['red','orange','yellow'])\n",
        "\n",
        "plt.xlabel('Weekend')\n",
        "plt.ylabel('Number of cars')\n",
        "plt.title('Interesting Graph\\nCheck it out')\n",
        "plt.show()\n",
        "\n",
        "#plt.bar(weekend,all_cars, label=\"Cars taken on weekends\", color='g')\n",
        "#plt.legend()\n",
        "#plt.xlabel('Type of day')\n",
        "#plt.ylabel('Number of cars')\n",
        "\n",
        "#plt.title('Epic Graph\\nAnother Line! Whoa')\n",
        "\n",
        "#plt.show()"
      ],
      "execution_count": 34,
      "outputs": [
        {
          "output_type": "stream",
          "text": [
            "125.92695057506994\n"
          ],
          "name": "stdout"
        },
        {
          "output_type": "display_data",
          "data": {
            "image/png": "[encoded data removed]",
            "text/plain": [
              "<Figure size 432x288 with 1 Axes>"
            ]
          },
          "metadata": {
            "tags": [],
            "needs_background": "light"
          }
        }
      ]
    },
    {
      "cell_type": "code",
      "metadata": {
        "id": "1y-nsWsGtYmW",
        "colab_type": "code",
        "colab": {
          "base_uri": "https://localhost:8080/",
          "height": 0
        },
        "outputId": "44e6d682-382c-4076-e8cd-8e0743d0e6d3"
      },
      "source": [
        "#Calculating the number of blue cars returned to each postal code\n",
        "Auto_group=Auto_df.groupby(pd.Grouper(('postal_code')))\n",
        "df2=Auto_group['bluecars_taken_sum'].mean().sort_values(ascending=False)\n",
        "df2"
      ],
      "execution_count": 35,
      "outputs": [
        {
          "output_type": "execute_result",
          "data": {
            "text/plain": [
              "postal_code\n",
              "75015    896.955128\n",
              "75016    790.301282\n",
              "75017    734.493590\n",
              "75013    541.596154\n",
              "75019    525.467949\n",
              "            ...    \n",
              "93150      5.258278\n",
              "94100      4.832258\n",
              "93370      3.744966\n",
              "93390      3.630952\n",
              "93440      3.443709\n",
              "Name: bluecars_taken_sum, Length: 104, dtype: float64"
            ]
          },
          "metadata": {
            "tags": []
          },
          "execution_count": 35
        }
      ]
    },
    {
      "cell_type": "code",
      "metadata": {
        "id": "Qha2zpGwubNC",
        "colab_type": "code",
        "colab": {
          "base_uri": "https://localhost:8080/",
          "height": 0
        },
        "outputId": "8b4a254a-4e32-4ca3-a471-a9269df601fc"
      },
      "source": [
        "prev_5 = df2.head()\n",
        "\n",
        "prev_5.plot.bar(figsize=(10,8), y='postal_code' ,rot=0)\n",
        "\n"
      ],
      "execution_count": 36,
      "outputs": [
        {
          "output_type": "execute_result",
          "data": {
            "text/plain": [
              "<matplotlib.axes._subplots.AxesSubplot at 0x7fa36aa15ef0>"
            ]
          },
          "metadata": {
            "tags": []
          },
          "execution_count": 36
        },
        {
          "output_type": "display_data",
          "data": {
            "image/png": "[encoded data removed]",
            "text/plain": [
              "<Figure size 720x576 with 1 Axes>"
            ]
          },
          "metadata": {
            "tags": [],
            "needs_background": "light"
          }
        }
      ]
    },
    {
      "cell_type": "code",
      "metadata": {
        "id": "Fzn_5Se0wyb0",
        "colab_type": "code",
        "colab": {
          "base_uri": "https://localhost:8080/",
          "height": 0
        },
        "outputId": "396ae6be-8ddf-4ada-9d9a-aab605c70b15"
      },
      "source": [
        "#Calculating the number of blue cars returned to each postal code\n",
        "Auto_group=Auto_df.groupby(pd.Grouper(('postal_code')))\n",
        "df2=Auto_group['bluecars_returned_sum'].mean().sort_values(ascending=False)\n",
        "df2"
      ],
      "execution_count": 37,
      "outputs": [
        {
          "output_type": "execute_result",
          "data": {
            "text/plain": [
              "postal_code\n",
              "75015    897.070513\n",
              "75016    789.884615\n",
              "75017    734.237179\n",
              "75013    541.339744\n",
              "75019    525.788462\n",
              "            ...    \n",
              "93150      5.225166\n",
              "94100      4.812903\n",
              "93370      3.731544\n",
              "93390      3.595238\n",
              "93440      3.483444\n",
              "Name: bluecars_returned_sum, Length: 104, dtype: float64"
            ]
          },
          "metadata": {
            "tags": []
          },
          "execution_count": 37
        }
      ]
    },
    {
      "cell_type": "code",
      "metadata": {
        "id": "wLNUotqJ05ob",
        "colab_type": "code",
        "colab": {
          "base_uri": "https://localhost:8080/",
          "height": 0
        },
        "outputId": "09786c2a-88d2-41da-9701-8f471045e367"
      },
      "source": [
        "prev_5 = df2.head()\n",
        "\n",
        "prev_5.plot.bar(figsize=(10,8), y='postal_code', )"
      ],
      "execution_count": 38,
      "outputs": [
        {
          "output_type": "execute_result",
          "data": {
            "text/plain": [
              "<matplotlib.axes._subplots.AxesSubplot at 0x7fa36b4dbba8>"
            ]
          },
          "metadata": {
            "tags": []
          },
          "execution_count": 38
        },
        {
          "output_type": "display_data",
          "data": {
            "image/png": "[encoded data removed]",
            "text/plain": [
              "<Figure size 720x576 with 1 Axes>"
            ]
          },
          "metadata": {
            "tags": [],
            "needs_background": "light"
          }
        }
      ]
    },
    {
      "cell_type": "markdown",
      "metadata": {
        "id": "stZSmLMKxFzt",
        "colab_type": "text"
      },
      "source": [
        "# Hypothesis Testing"
      ]
    },
    {
      "cell_type": "markdown",
      "metadata": {
        "id": "Gp4ZpUj9xTwB",
        "colab_type": "text"
      },
      "source": [
        "##First Hypothesis\n",
        "Null Hypothesis: The number of blue cars is the same in different regions; 75015 and 75017 during the weekday : p = 92723\n",
        "\n",
        "Alternative hypothesis: The number of blue cars is different in different regions; 75015 and 75017 during the weekday: p =! 92723\n",
        "\n"
      ]
    },
    {
      "cell_type": "code",
      "metadata": {
        "id": "5tKe0Oy3NJvu",
        "colab_type": "code",
        "colab": {
          "base_uri": "https://localhost:8080/",
          "height": 593
        },
        "outputId": "21ce2fc5-8b61-4b61-ef15-bed4d569ed63"
      },
      "source": [
        "#Loading data with the weekday observation under the daytype variable\n",
        "y = Auto_df[Auto_df['day_type']=='weekday']\n",
        "y"
      ],
      "execution_count": 39,
      "outputs": [
        {
          "output_type": "execute_result",
          "data": {
            "text/html": [
              "<div>\n",
              "<style scoped>\n",
              "    .dataframe tbody tr th:only-of-type {\n",
              "        vertical-align: middle;\n",
              "    }\n",
              "\n",
              "    .dataframe tbody tr th {\n",
              "        vertical-align: top;\n",
              "    }\n",
              "\n",
              "    .dataframe thead th {\n",
              "        text-align: right;\n",
              "    }\n",
              "</style>\n",
              "<table border=\"1\" class=\"dataframe\">\n",
              "  <thead>\n",
              "    <tr style=\"text-align: right;\">\n",
              "      <th></th>\n",
              "      <th>postal_code</th>\n",
              "      <th>date</th>\n",
              "      <th>n_daily_data_points</th>\n",
              "      <th>dayofweek</th>\n",
              "      <th>day_type</th>\n",
              "      <th>bluecars_taken_sum</th>\n",
              "      <th>bluecars_returned_sum</th>\n",
              "      <th>utilib_taken_sum</th>\n",
              "      <th>utilib_returned_sum</th>\n",
              "      <th>utilib_14_taken_sum</th>\n",
              "      <th>utilib_14_returned_sum</th>\n",
              "      <th>slots_freed_sum</th>\n",
              "      <th>slots_taken_sum</th>\n",
              "    </tr>\n",
              "  </thead>\n",
              "  <tbody>\n",
              "    <tr>\n",
              "      <th>0</th>\n",
              "      <td>75001</td>\n",
              "      <td>2018-01-01</td>\n",
              "      <td>1440</td>\n",
              "      <td>0</td>\n",
              "      <td>weekday</td>\n",
              "      <td>110</td>\n",
              "      <td>103</td>\n",
              "      <td>3</td>\n",
              "      <td>2</td>\n",
              "      <td>10</td>\n",
              "      <td>9</td>\n",
              "      <td>22</td>\n",
              "      <td>20</td>\n",
              "    </tr>\n",
              "    <tr>\n",
              "      <th>1</th>\n",
              "      <td>75001</td>\n",
              "      <td>2018-01-02</td>\n",
              "      <td>1438</td>\n",
              "      <td>1</td>\n",
              "      <td>weekday</td>\n",
              "      <td>98</td>\n",
              "      <td>94</td>\n",
              "      <td>1</td>\n",
              "      <td>1</td>\n",
              "      <td>8</td>\n",
              "      <td>8</td>\n",
              "      <td>23</td>\n",
              "      <td>22</td>\n",
              "    </tr>\n",
              "    <tr>\n",
              "      <th>2</th>\n",
              "      <td>75001</td>\n",
              "      <td>2018-01-03</td>\n",
              "      <td>1439</td>\n",
              "      <td>2</td>\n",
              "      <td>weekday</td>\n",
              "      <td>138</td>\n",
              "      <td>139</td>\n",
              "      <td>0</td>\n",
              "      <td>0</td>\n",
              "      <td>2</td>\n",
              "      <td>2</td>\n",
              "      <td>27</td>\n",
              "      <td>27</td>\n",
              "    </tr>\n",
              "    <tr>\n",
              "      <th>3</th>\n",
              "      <td>75001</td>\n",
              "      <td>2018-01-04</td>\n",
              "      <td>1320</td>\n",
              "      <td>3</td>\n",
              "      <td>weekday</td>\n",
              "      <td>104</td>\n",
              "      <td>104</td>\n",
              "      <td>2</td>\n",
              "      <td>2</td>\n",
              "      <td>9</td>\n",
              "      <td>8</td>\n",
              "      <td>25</td>\n",
              "      <td>21</td>\n",
              "    </tr>\n",
              "    <tr>\n",
              "      <th>4</th>\n",
              "      <td>75001</td>\n",
              "      <td>2018-01-05</td>\n",
              "      <td>1440</td>\n",
              "      <td>4</td>\n",
              "      <td>weekday</td>\n",
              "      <td>114</td>\n",
              "      <td>117</td>\n",
              "      <td>3</td>\n",
              "      <td>3</td>\n",
              "      <td>6</td>\n",
              "      <td>6</td>\n",
              "      <td>18</td>\n",
              "      <td>20</td>\n",
              "    </tr>\n",
              "    <tr>\n",
              "      <th>...</th>\n",
              "      <td>...</td>\n",
              "      <td>...</td>\n",
              "      <td>...</td>\n",
              "      <td>...</td>\n",
              "      <td>...</td>\n",
              "      <td>...</td>\n",
              "      <td>...</td>\n",
              "      <td>...</td>\n",
              "      <td>...</td>\n",
              "      <td>...</td>\n",
              "      <td>...</td>\n",
              "      <td>...</td>\n",
              "      <td>...</td>\n",
              "    </tr>\n",
              "    <tr>\n",
              "      <th>16078</th>\n",
              "      <td>95880</td>\n",
              "      <td>2018-06-13</td>\n",
              "      <td>1440</td>\n",
              "      <td>2</td>\n",
              "      <td>weekday</td>\n",
              "      <td>12</td>\n",
              "      <td>13</td>\n",
              "      <td>0</td>\n",
              "      <td>0</td>\n",
              "      <td>1</td>\n",
              "      <td>1</td>\n",
              "      <td>0</td>\n",
              "      <td>0</td>\n",
              "    </tr>\n",
              "    <tr>\n",
              "      <th>16079</th>\n",
              "      <td>95880</td>\n",
              "      <td>2018-06-14</td>\n",
              "      <td>1439</td>\n",
              "      <td>3</td>\n",
              "      <td>weekday</td>\n",
              "      <td>15</td>\n",
              "      <td>13</td>\n",
              "      <td>0</td>\n",
              "      <td>0</td>\n",
              "      <td>0</td>\n",
              "      <td>0</td>\n",
              "      <td>0</td>\n",
              "      <td>0</td>\n",
              "    </tr>\n",
              "    <tr>\n",
              "      <th>16080</th>\n",
              "      <td>95880</td>\n",
              "      <td>2018-06-15</td>\n",
              "      <td>1440</td>\n",
              "      <td>4</td>\n",
              "      <td>weekday</td>\n",
              "      <td>15</td>\n",
              "      <td>10</td>\n",
              "      <td>0</td>\n",
              "      <td>0</td>\n",
              "      <td>2</td>\n",
              "      <td>3</td>\n",
              "      <td>0</td>\n",
              "      <td>0</td>\n",
              "    </tr>\n",
              "    <tr>\n",
              "      <th>16083</th>\n",
              "      <td>95880</td>\n",
              "      <td>2018-06-18</td>\n",
              "      <td>1440</td>\n",
              "      <td>0</td>\n",
              "      <td>weekday</td>\n",
              "      <td>11</td>\n",
              "      <td>14</td>\n",
              "      <td>3</td>\n",
              "      <td>5</td>\n",
              "      <td>2</td>\n",
              "      <td>2</td>\n",
              "      <td>0</td>\n",
              "      <td>0</td>\n",
              "    </tr>\n",
              "    <tr>\n",
              "      <th>16084</th>\n",
              "      <td>95880</td>\n",
              "      <td>2018-06-19</td>\n",
              "      <td>1370</td>\n",
              "      <td>1</td>\n",
              "      <td>weekday</td>\n",
              "      <td>2</td>\n",
              "      <td>2</td>\n",
              "      <td>2</td>\n",
              "      <td>1</td>\n",
              "      <td>0</td>\n",
              "      <td>0</td>\n",
              "      <td>0</td>\n",
              "      <td>0</td>\n",
              "    </tr>\n",
              "  </tbody>\n",
              "</table>\n",
              "<p>11544 rows × 13 columns</p>\n",
              "</div>"
            ],
            "text/plain": [
              "       postal_code       date  ...  slots_freed_sum  slots_taken_sum\n",
              "0            75001 2018-01-01  ...               22               20\n",
              "1            75001 2018-01-02  ...               23               22\n",
              "2            75001 2018-01-03  ...               27               27\n",
              "3            75001 2018-01-04  ...               25               21\n",
              "4            75001 2018-01-05  ...               18               20\n",
              "...            ...        ...  ...              ...              ...\n",
              "16078        95880 2018-06-13  ...                0                0\n",
              "16079        95880 2018-06-14  ...                0                0\n",
              "16080        95880 2018-06-15  ...                0                0\n",
              "16083        95880 2018-06-18  ...                0                0\n",
              "16084        95880 2018-06-19  ...                0                0\n",
              "\n",
              "[11544 rows x 13 columns]"
            ]
          },
          "metadata": {
            "tags": []
          },
          "execution_count": 39
        }
      ]
    },
    {
      "cell_type": "code",
      "metadata": {
        "id": "MbeBAcZDTWaK",
        "colab_type": "code",
        "colab": {
          "base_uri": "https://localhost:8080/",
          "height": 593
        },
        "outputId": "d767c487-6e10-4766-8172-6fd30dc4a44a"
      },
      "source": [
        "ty = y[y['postal_code'] ==75015 & 75017]\n",
        "ty"
      ],
      "execution_count": 40,
      "outputs": [
        {
          "output_type": "execute_result",
          "data": {
            "text/html": [
              "<div>\n",
              "<style scoped>\n",
              "    .dataframe tbody tr th:only-of-type {\n",
              "        vertical-align: middle;\n",
              "    }\n",
              "\n",
              "    .dataframe tbody tr th {\n",
              "        vertical-align: top;\n",
              "    }\n",
              "\n",
              "    .dataframe thead th {\n",
              "        text-align: right;\n",
              "    }\n",
              "</style>\n",
              "<table border=\"1\" class=\"dataframe\">\n",
              "  <thead>\n",
              "    <tr style=\"text-align: right;\">\n",
              "      <th></th>\n",
              "      <th>postal_code</th>\n",
              "      <th>date</th>\n",
              "      <th>n_daily_data_points</th>\n",
              "      <th>dayofweek</th>\n",
              "      <th>day_type</th>\n",
              "      <th>bluecars_taken_sum</th>\n",
              "      <th>bluecars_returned_sum</th>\n",
              "      <th>utilib_taken_sum</th>\n",
              "      <th>utilib_returned_sum</th>\n",
              "      <th>utilib_14_taken_sum</th>\n",
              "      <th>utilib_14_returned_sum</th>\n",
              "      <th>slots_freed_sum</th>\n",
              "      <th>slots_taken_sum</th>\n",
              "    </tr>\n",
              "  </thead>\n",
              "  <tbody>\n",
              "    <tr>\n",
              "      <th>1248</th>\n",
              "      <td>75009</td>\n",
              "      <td>2018-01-01</td>\n",
              "      <td>1440</td>\n",
              "      <td>0</td>\n",
              "      <td>weekday</td>\n",
              "      <td>336</td>\n",
              "      <td>336</td>\n",
              "      <td>7</td>\n",
              "      <td>8</td>\n",
              "      <td>21</td>\n",
              "      <td>20</td>\n",
              "      <td>72</td>\n",
              "      <td>70</td>\n",
              "    </tr>\n",
              "    <tr>\n",
              "      <th>1249</th>\n",
              "      <td>75009</td>\n",
              "      <td>2018-01-02</td>\n",
              "      <td>1438</td>\n",
              "      <td>1</td>\n",
              "      <td>weekday</td>\n",
              "      <td>266</td>\n",
              "      <td>258</td>\n",
              "      <td>4</td>\n",
              "      <td>5</td>\n",
              "      <td>12</td>\n",
              "      <td>12</td>\n",
              "      <td>44</td>\n",
              "      <td>45</td>\n",
              "    </tr>\n",
              "    <tr>\n",
              "      <th>1250</th>\n",
              "      <td>75009</td>\n",
              "      <td>2018-01-03</td>\n",
              "      <td>1439</td>\n",
              "      <td>2</td>\n",
              "      <td>weekday</td>\n",
              "      <td>324</td>\n",
              "      <td>309</td>\n",
              "      <td>8</td>\n",
              "      <td>6</td>\n",
              "      <td>15</td>\n",
              "      <td>16</td>\n",
              "      <td>58</td>\n",
              "      <td>54</td>\n",
              "    </tr>\n",
              "    <tr>\n",
              "      <th>1251</th>\n",
              "      <td>75009</td>\n",
              "      <td>2018-01-04</td>\n",
              "      <td>1320</td>\n",
              "      <td>3</td>\n",
              "      <td>weekday</td>\n",
              "      <td>335</td>\n",
              "      <td>335</td>\n",
              "      <td>8</td>\n",
              "      <td>11</td>\n",
              "      <td>15</td>\n",
              "      <td>13</td>\n",
              "      <td>54</td>\n",
              "      <td>59</td>\n",
              "    </tr>\n",
              "    <tr>\n",
              "      <th>1252</th>\n",
              "      <td>75009</td>\n",
              "      <td>2018-01-05</td>\n",
              "      <td>1440</td>\n",
              "      <td>4</td>\n",
              "      <td>weekday</td>\n",
              "      <td>378</td>\n",
              "      <td>360</td>\n",
              "      <td>9</td>\n",
              "      <td>7</td>\n",
              "      <td>25</td>\n",
              "      <td>26</td>\n",
              "      <td>77</td>\n",
              "      <td>69</td>\n",
              "    </tr>\n",
              "    <tr>\n",
              "      <th>...</th>\n",
              "      <td>...</td>\n",
              "      <td>...</td>\n",
              "      <td>...</td>\n",
              "      <td>...</td>\n",
              "      <td>...</td>\n",
              "      <td>...</td>\n",
              "      <td>...</td>\n",
              "      <td>...</td>\n",
              "      <td>...</td>\n",
              "      <td>...</td>\n",
              "      <td>...</td>\n",
              "      <td>...</td>\n",
              "      <td>...</td>\n",
              "    </tr>\n",
              "    <tr>\n",
              "      <th>1397</th>\n",
              "      <td>75009</td>\n",
              "      <td>2018-06-13</td>\n",
              "      <td>1440</td>\n",
              "      <td>2</td>\n",
              "      <td>weekday</td>\n",
              "      <td>326</td>\n",
              "      <td>325</td>\n",
              "      <td>12</td>\n",
              "      <td>12</td>\n",
              "      <td>29</td>\n",
              "      <td>29</td>\n",
              "      <td>87</td>\n",
              "      <td>90</td>\n",
              "    </tr>\n",
              "    <tr>\n",
              "      <th>1398</th>\n",
              "      <td>75009</td>\n",
              "      <td>2018-06-14</td>\n",
              "      <td>1439</td>\n",
              "      <td>3</td>\n",
              "      <td>weekday</td>\n",
              "      <td>332</td>\n",
              "      <td>325</td>\n",
              "      <td>20</td>\n",
              "      <td>20</td>\n",
              "      <td>19</td>\n",
              "      <td>17</td>\n",
              "      <td>72</td>\n",
              "      <td>66</td>\n",
              "    </tr>\n",
              "    <tr>\n",
              "      <th>1399</th>\n",
              "      <td>75009</td>\n",
              "      <td>2018-06-15</td>\n",
              "      <td>1440</td>\n",
              "      <td>4</td>\n",
              "      <td>weekday</td>\n",
              "      <td>321</td>\n",
              "      <td>328</td>\n",
              "      <td>6</td>\n",
              "      <td>5</td>\n",
              "      <td>12</td>\n",
              "      <td>13</td>\n",
              "      <td>63</td>\n",
              "      <td>68</td>\n",
              "    </tr>\n",
              "    <tr>\n",
              "      <th>1402</th>\n",
              "      <td>75009</td>\n",
              "      <td>2018-06-18</td>\n",
              "      <td>1440</td>\n",
              "      <td>0</td>\n",
              "      <td>weekday</td>\n",
              "      <td>304</td>\n",
              "      <td>274</td>\n",
              "      <td>10</td>\n",
              "      <td>9</td>\n",
              "      <td>19</td>\n",
              "      <td>17</td>\n",
              "      <td>59</td>\n",
              "      <td>54</td>\n",
              "    </tr>\n",
              "    <tr>\n",
              "      <th>1403</th>\n",
              "      <td>75009</td>\n",
              "      <td>2018-06-19</td>\n",
              "      <td>1370</td>\n",
              "      <td>1</td>\n",
              "      <td>weekday</td>\n",
              "      <td>24</td>\n",
              "      <td>16</td>\n",
              "      <td>0</td>\n",
              "      <td>1</td>\n",
              "      <td>1</td>\n",
              "      <td>1</td>\n",
              "      <td>5</td>\n",
              "      <td>2</td>\n",
              "    </tr>\n",
              "  </tbody>\n",
              "</table>\n",
              "<p>112 rows × 13 columns</p>\n",
              "</div>"
            ],
            "text/plain": [
              "      postal_code       date  ...  slots_freed_sum  slots_taken_sum\n",
              "1248        75009 2018-01-01  ...               72               70\n",
              "1249        75009 2018-01-02  ...               44               45\n",
              "1250        75009 2018-01-03  ...               58               54\n",
              "1251        75009 2018-01-04  ...               54               59\n",
              "1252        75009 2018-01-05  ...               77               69\n",
              "...           ...        ...  ...              ...              ...\n",
              "1397        75009 2018-06-13  ...               87               90\n",
              "1398        75009 2018-06-14  ...               72               66\n",
              "1399        75009 2018-06-15  ...               63               68\n",
              "1402        75009 2018-06-18  ...               59               54\n",
              "1403        75009 2018-06-19  ...                5                2\n",
              "\n",
              "[112 rows x 13 columns]"
            ]
          },
          "metadata": {
            "tags": []
          },
          "execution_count": 40
        }
      ]
    },
    {
      "cell_type": "code",
      "metadata": {
        "id": "RGiqO7p8Ovyj",
        "colab_type": "code",
        "colab": {
          "base_uri": "https://localhost:8080/",
          "height": 282
        },
        "outputId": "4ad6bda1-26ad-4134-ac6f-a875d9a80438"
      },
      "source": [
        "#Checking the normality of the data in the variable bluecars\n",
        "bluecars = ty['bluecars_taken_sum'].sort_values(ascending = True)\n",
        "bluecars_mean, bluecars_std = bluecars.mean(), bluecars.std()\n",
        "\n",
        "# Plot histogram (normalized) - LIGHT-BLUE\n",
        "bluecars.hist(color='lightblue', weights = np.zeros_like(bluecars) + 1.0 / bluecars.count())\n",
        "plt.title = 'Normality of the distribution'\n",
        "\n",
        "\n",
        "# Plot line graph - RED\n",
        "#bluecars.value_counts(sort=False, normalize=True).plot.line(color='red')\n",
        "\n",
        "# Normal distribution for random points between 1 to 10 with mean, std.\n",
        "random_data = np.arange(1, 10, 0.001)\n",
        "pyplot.plot(random_data, stats.norm.pdf(random_data, bluecars_mean, bluecars_std), color='green')"
      ],
      "execution_count": 42,
      "outputs": [
        {
          "output_type": "execute_result",
          "data": {
            "text/plain": [
              "[<matplotlib.lines.Line2D at 0x7fa36e51c5c0>]"
            ]
          },
          "metadata": {
            "tags": []
          },
          "execution_count": 42
        },
        {
          "output_type": "display_data",
          "data": {
            "image/png": "[encoded data removed]",
            "text/plain": [
              "<Figure size 432x288 with 1 Axes>"
            ]
          },
          "metadata": {
            "tags": [],
            "needs_background": "light"
          }
        }
      ]
    },
    {
      "cell_type": "code",
      "metadata": {
        "id": "R0g54FDSR24Y",
        "colab_type": "code",
        "colab": {
          "base_uri": "https://localhost:8080/",
          "height": 535
        },
        "outputId": "cddaea1f-21f2-4709-c358-75755621bb9f"
      },
      "source": [
        "\n",
        "bluecars_freq = bluecars.value_counts(sort=True)\n",
        "print(bluecars_freq)\n",
        "plt=bluecars_freq.plot.bar()\n",
        "plt.set_title(\"Frequency distribution graph - Bluecars Frequency\")\n",
        "plt.set_xlabel(\"Bluecars\")\n",
        "plt.set_ylabel(\"Frequency\")"
      ],
      "execution_count": 43,
      "outputs": [
        {
          "output_type": "stream",
          "text": [
            "314    6\n",
            "319    5\n",
            "345    4\n",
            "284    4\n",
            "327    3\n",
            "      ..\n",
            "328    1\n",
            "326    1\n",
            "325    1\n",
            "378    1\n",
            "259    1\n",
            "Name: bluecars_taken_sum, Length: 72, dtype: int64\n"
          ],
          "name": "stdout"
        },
        {
          "output_type": "execute_result",
          "data": {
            "text/plain": [
              "Text(0, 0.5, 'Frequency')"
            ]
          },
          "metadata": {
            "tags": []
          },
          "execution_count": 43
        },
        {
          "output_type": "display_data",
          "data": {
            "image/png": "[encoded data removed]",
            "text/plain": [
              "<Figure size 432x288 with 1 Axes>"
            ]
          },
          "metadata": {
            "tags": [],
            "needs_background": "light"
          }
        }
      ]
    },
    {
      "cell_type": "code",
      "metadata": {
        "id": "oakyrlsYoSzH",
        "colab_type": "code",
        "colab": {
          "base_uri": "https://localhost:8080/",
          "height": 265
        },
        "outputId": "3d113c70-f520-436f-ac6c-c2a8410b60a1"
      },
      "source": [
        "y.dtypes"
      ],
      "execution_count": 45,
      "outputs": [
        {
          "output_type": "execute_result",
          "data": {
            "text/plain": [
              "postal_code                        int64\n",
              "date                      datetime64[ns]\n",
              "n_daily_data_points                int64\n",
              "dayofweek                          int64\n",
              "day_type                          object\n",
              "bluecars_taken_sum                 int64\n",
              "bluecars_returned_sum              int64\n",
              "utilib_taken_sum                   int64\n",
              "utilib_returned_sum                int64\n",
              "utilib_14_taken_sum                int64\n",
              "utilib_14_returned_sum             int64\n",
              "slots_freed_sum                    int64\n",
              "slots_taken_sum                    int64\n",
              "dtype: object"
            ]
          },
          "metadata": {
            "tags": []
          },
          "execution_count": 45
        }
      ]
    },
    {
      "cell_type": "code",
      "metadata": {
        "id": "ZVI6d3wZorBM",
        "colab_type": "code",
        "colab": {
          "base_uri": "https://localhost:8080/",
          "height": 407
        },
        "outputId": "13276d70-2c57-4682-fc54-143d688f9d72"
      },
      "source": [
        "C_post = y.groupby('postal_code')['postal_code'].count()\n",
        "C_post.head(20)"
      ],
      "execution_count": 46,
      "outputs": [
        {
          "output_type": "execute_result",
          "data": {
            "text/plain": [
              "postal_code\n",
              "75001    112\n",
              "75002    112\n",
              "75003    112\n",
              "75004    112\n",
              "75005    112\n",
              "75006    112\n",
              "75007    112\n",
              "75008    112\n",
              "75009    112\n",
              "75010    112\n",
              "75011    112\n",
              "75012    112\n",
              "75013    112\n",
              "75014    112\n",
              "75015    112\n",
              "75016    112\n",
              "75017    112\n",
              "75018    112\n",
              "75019    112\n",
              "75020    112\n",
              "Name: postal_code, dtype: int64"
            ]
          },
          "metadata": {
            "tags": []
          },
          "execution_count": 46
        }
      ]
    },
    {
      "cell_type": "code",
      "metadata": {
        "id": "6Ug4tjVhRS-3",
        "colab_type": "code",
        "colab": {
          "base_uri": "https://localhost:8080/",
          "height": 247
        },
        "outputId": "1334838e-0f00-4f40-b615-063bf257843a"
      },
      "source": [
        "#Obtaining the means of blue cars in the postal code region of 75015 and 75017 during the weekday\n",
        "mean_post=y.groupby('postal_code')['bluecars_taken_sum'].mean().sort_values(ascending=False)\n",
        "mean_post\n"
      ],
      "execution_count": 47,
      "outputs": [
        {
          "output_type": "execute_result",
          "data": {
            "text/plain": [
              "postal_code\n",
              "75015    827.883929\n",
              "75016    752.580357\n",
              "75017    696.571429\n",
              "75013    496.053571\n",
              "75019    463.964286\n",
              "            ...    \n",
              "93150      4.373832\n",
              "94100      3.522523\n",
              "93390      3.118644\n",
              "93370      3.019048\n",
              "93440      2.981481\n",
              "Name: bluecars_taken_sum, Length: 104, dtype: float64"
            ]
          },
          "metadata": {
            "tags": []
          },
          "execution_count": 47
        }
      ]
    },
    {
      "cell_type": "code",
      "metadata": {
        "id": "Ch_qIyNFlyNl",
        "colab_type": "code",
        "colab": {
          "base_uri": "https://localhost:8080/",
          "height": 247
        },
        "outputId": "7683ddfe-2066-4422-bb2b-eaad75ef46e5"
      },
      "source": [
        "#Standard deviation of the blue cars in the postal code region of 75015 and 75017 during the weekday\n",
        "dev_post=y.groupby('postal_code')['bluecars_taken_sum'].std().sort_values(ascending=False)\n",
        "dev_post"
      ],
      "execution_count": 48,
      "outputs": [
        {
          "output_type": "execute_result",
          "data": {
            "text/plain": [
              "postal_code\n",
              "75015    125.243816\n",
              "75016    105.516545\n",
              "75017     84.898744\n",
              "75019     68.064216\n",
              "75013     66.929012\n",
              "            ...    \n",
              "93150      2.527298\n",
              "93370      2.170523\n",
              "93440      2.109088\n",
              "94100      2.101285\n",
              "93390      1.992094\n",
              "Name: bluecars_taken_sum, Length: 104, dtype: float64"
            ]
          },
          "metadata": {
            "tags": []
          },
          "execution_count": 48
        }
      ]
    },
    {
      "cell_type": "code",
      "metadata": {
        "id": "i3QwjoK1J-Nm",
        "colab_type": "code",
        "colab": {
          "base_uri": "https://localhost:8080/",
          "height": 247
        },
        "outputId": "cd63e8fe-d671-430f-fa09-ec42f097a800"
      },
      "source": [
        "#Obtaining the sum of blue cars in the postal code region of 75015 and 75017 during the weekday\n",
        "mean_post=y.groupby('postal_code')['bluecars_taken_sum'].sum().sort_values(ascending=False)\n",
        "mean_post"
      ],
      "execution_count": 49,
      "outputs": [
        {
          "output_type": "execute_result",
          "data": {
            "text/plain": [
              "postal_code\n",
              "75015    92723\n",
              "75016    84289\n",
              "75017    78016\n",
              "75013    55558\n",
              "75019    51964\n",
              "         ...  \n",
              "93150      468\n",
              "94100      391\n",
              "93440      322\n",
              "93370      317\n",
              "93390      184\n",
              "Name: bluecars_taken_sum, Length: 104, dtype: int64"
            ]
          },
          "metadata": {
            "tags": []
          },
          "execution_count": 49
        }
      ]
    },
    {
      "cell_type": "code",
      "metadata": {
        "id": "9f005vnDRKko",
        "colab_type": "code",
        "colab": {
          "base_uri": "https://localhost:8080/",
          "height": 123
        },
        "outputId": "585ce810-df38-4da7-cf99-df43e913c104"
      },
      "source": [
        "#Variables during the weekday period\n",
        "# post_code = 75015, 75017\n",
        "# mean      = 823.5, 685.81\n",
        "#sample size =112\n",
        "#sample standard deviation=85.827\n",
        "x_bar = 696.571429\n",
        "pmean = 827.883929\n",
        "n=112\n",
        "s=84.898744\n",
        "\n",
        "t =sqrt(n)\n",
        "print(t)\n",
        "SE= (85.827/t)\n",
        "print(SE)\n",
        "z_scores = (x_bar - pmean)/SE\n",
        "print(z_scores ,\"The z statistic\")\n",
        "\n",
        "p_values = scipy.stats.norm.sf(abs(z_scores))*2\n",
        "print(p_values)\n",
        "\n",
        "#Test significance\n",
        "alpha= 0.05\n",
        "if (p_values< alpha):\n",
        "    print(\"indicates strong evidence against the null hypothesis, so you reject the null hypothesis\")\n",
        "else:\n",
        "\tprint(\"indicates weak evidence against the null hypothesis, so you fail to reject the null hypothesis\")\n",
        "\n",
        "#Test for sensitivity\n",
        "\n",
        "alpha=0.01\n",
        "if (p_values<alpha):\n",
        "  print('Reject the null hypothesis, accept the alternative')\n",
        "else:\n",
        "  print('fail to reject the null hypothesis')\n",
        "\n",
        "\n",
        "\n",
        "\n",
        "\n"
      ],
      "execution_count": 50,
      "outputs": [
        {
          "output_type": "stream",
          "text": [
            "10.583005244258363\n",
            "8.109889206240736\n",
            "-16.19165153316178 The z statistic\n",
            "5.775732323394884e-59\n",
            "indicates strong evidence against the null hypothesis, so you reject the null hypothesis\n",
            "Reject the null hypothesis, accept the alternative\n"
          ],
          "name": "stdout"
        }
      ]
    },
    {
      "cell_type": "markdown",
      "metadata": {
        "id": "Em5wEYmu1S75",
        "colab_type": "text"
      },
      "source": [
        "## Second Hypothesis\n",
        "Null hypothesis: The number of blue cars in postal code 75015 is less than or equal to postal code 75017; population </= 685.\n",
        "\n",
        "Alternative hypothesis: The number of blue cars in postal code 75015 is greater than postal code 75017; population > 685"
      ]
    },
    {
      "cell_type": "code",
      "metadata": {
        "id": "yY9Prq8-3ufo",
        "colab_type": "code",
        "colab": {
          "base_uri": "https://localhost:8080/",
          "height": 123
        },
        "outputId": "601e6193-d828-4d64-d937-11acafc0b9c4"
      },
      "source": [
        "t =sqrt(n)\n",
        "print(t)\n",
        "SE= (85.827/t)\n",
        "print(SE)\n",
        "z_scores = (685 - 823)/SE\n",
        "print(z_scores ,\"The z statistic\")\n",
        "\n",
        "p_values = scipy.stats.norm.sf(abs(z_scores))\n",
        "print(p_values)\n",
        "\n",
        "#Test significance\n",
        "alpha= 0.25\n",
        "if (p_values< alpha):\n",
        "    print(\"indicates strong evidence against the null hypothesis, so you reject the null hypothesis\")\n",
        "else:\n",
        "\tprint(\"indicates weak evidence against the null hypothesis, so you fail to reject the null hypothesis\")\n",
        " \n",
        "# Test for Sensitivity \n",
        "\n",
        "alpha = 0.005\n",
        "if (p_values< alpha):\n",
        "  print('Reject the null hypothesis, accept the alternative')\n",
        "else:\n",
        "  print('Fail to reject the null hypothesis')"
      ],
      "execution_count": 51,
      "outputs": [
        {
          "output_type": "stream",
          "text": [
            "10.583005244258363\n",
            "8.109889206240736\n",
            "-17.01626205864884 The z statistic\n",
            "3.110898321934569e-65\n",
            "indicates strong evidence against the null hypothesis, so you reject the null hypothesis\n",
            "Reject the null hypothesis, accept the alternative\n"
          ],
          "name": "stdout"
        }
      ]
    },
    {
      "cell_type": "markdown",
      "metadata": {
        "id": "npGswz5r4Pz_",
        "colab_type": "text"
      },
      "source": [
        "## Third Hypothesis\n",
        "\n",
        "Null hypothesis:The number of blue cars is the same in different between regions with the postal codes 75015 and 75017 during the weekends; population = \n",
        "\n",
        "Alternative hypothesis: The number of blue cars is different in different regions of postal codes 75015 and 75017 during weekends;\n",
        "population =!"
      ]
    },
    {
      "cell_type": "code",
      "metadata": {
        "id": "Lvwf2mnX3ucw",
        "colab_type": "code",
        "colab": {
          "base_uri": "https://localhost:8080/",
          "height": 593
        },
        "outputId": "befc3968-37ae-4335-ec31-c41f8ea5952a"
      },
      "source": [
        "#Loading data with the weekday observation under the daytype variable\n",
        "a= Auto_df[Auto_df['day_type']=='weekend']\n",
        "a\n"
      ],
      "execution_count": 52,
      "outputs": [
        {
          "output_type": "execute_result",
          "data": {
            "text/html": [
              "<div>\n",
              "<style scoped>\n",
              "    .dataframe tbody tr th:only-of-type {\n",
              "        vertical-align: middle;\n",
              "    }\n",
              "\n",
              "    .dataframe tbody tr th {\n",
              "        vertical-align: top;\n",
              "    }\n",
              "\n",
              "    .dataframe thead th {\n",
              "        text-align: right;\n",
              "    }\n",
              "</style>\n",
              "<table border=\"1\" class=\"dataframe\">\n",
              "  <thead>\n",
              "    <tr style=\"text-align: right;\">\n",
              "      <th></th>\n",
              "      <th>postal_code</th>\n",
              "      <th>date</th>\n",
              "      <th>n_daily_data_points</th>\n",
              "      <th>dayofweek</th>\n",
              "      <th>day_type</th>\n",
              "      <th>bluecars_taken_sum</th>\n",
              "      <th>bluecars_returned_sum</th>\n",
              "      <th>utilib_taken_sum</th>\n",
              "      <th>utilib_returned_sum</th>\n",
              "      <th>utilib_14_taken_sum</th>\n",
              "      <th>utilib_14_returned_sum</th>\n",
              "      <th>slots_freed_sum</th>\n",
              "      <th>slots_taken_sum</th>\n",
              "    </tr>\n",
              "  </thead>\n",
              "  <tbody>\n",
              "    <tr>\n",
              "      <th>5</th>\n",
              "      <td>75001</td>\n",
              "      <td>2018-01-06</td>\n",
              "      <td>1437</td>\n",
              "      <td>5</td>\n",
              "      <td>weekend</td>\n",
              "      <td>187</td>\n",
              "      <td>185</td>\n",
              "      <td>6</td>\n",
              "      <td>6</td>\n",
              "      <td>7</td>\n",
              "      <td>8</td>\n",
              "      <td>38</td>\n",
              "      <td>35</td>\n",
              "    </tr>\n",
              "    <tr>\n",
              "      <th>6</th>\n",
              "      <td>75001</td>\n",
              "      <td>2018-01-07</td>\n",
              "      <td>1440</td>\n",
              "      <td>6</td>\n",
              "      <td>weekend</td>\n",
              "      <td>180</td>\n",
              "      <td>180</td>\n",
              "      <td>2</td>\n",
              "      <td>2</td>\n",
              "      <td>10</td>\n",
              "      <td>9</td>\n",
              "      <td>34</td>\n",
              "      <td>34</td>\n",
              "    </tr>\n",
              "    <tr>\n",
              "      <th>12</th>\n",
              "      <td>75001</td>\n",
              "      <td>2018-01-13</td>\n",
              "      <td>1440</td>\n",
              "      <td>5</td>\n",
              "      <td>weekend</td>\n",
              "      <td>224</td>\n",
              "      <td>223</td>\n",
              "      <td>2</td>\n",
              "      <td>2</td>\n",
              "      <td>15</td>\n",
              "      <td>15</td>\n",
              "      <td>38</td>\n",
              "      <td>38</td>\n",
              "    </tr>\n",
              "    <tr>\n",
              "      <th>13</th>\n",
              "      <td>75001</td>\n",
              "      <td>2018-01-14</td>\n",
              "      <td>1440</td>\n",
              "      <td>6</td>\n",
              "      <td>weekend</td>\n",
              "      <td>193</td>\n",
              "      <td>193</td>\n",
              "      <td>2</td>\n",
              "      <td>2</td>\n",
              "      <td>12</td>\n",
              "      <td>12</td>\n",
              "      <td>22</td>\n",
              "      <td>20</td>\n",
              "    </tr>\n",
              "    <tr>\n",
              "      <th>19</th>\n",
              "      <td>75001</td>\n",
              "      <td>2018-01-20</td>\n",
              "      <td>1439</td>\n",
              "      <td>5</td>\n",
              "      <td>weekend</td>\n",
              "      <td>217</td>\n",
              "      <td>217</td>\n",
              "      <td>2</td>\n",
              "      <td>2</td>\n",
              "      <td>25</td>\n",
              "      <td>25</td>\n",
              "      <td>41</td>\n",
              "      <td>39</td>\n",
              "    </tr>\n",
              "    <tr>\n",
              "      <th>...</th>\n",
              "      <td>...</td>\n",
              "      <td>...</td>\n",
              "      <td>...</td>\n",
              "      <td>...</td>\n",
              "      <td>...</td>\n",
              "      <td>...</td>\n",
              "      <td>...</td>\n",
              "      <td>...</td>\n",
              "      <td>...</td>\n",
              "      <td>...</td>\n",
              "      <td>...</td>\n",
              "      <td>...</td>\n",
              "      <td>...</td>\n",
              "    </tr>\n",
              "    <tr>\n",
              "      <th>16068</th>\n",
              "      <td>95880</td>\n",
              "      <td>2018-06-03</td>\n",
              "      <td>1440</td>\n",
              "      <td>6</td>\n",
              "      <td>weekend</td>\n",
              "      <td>36</td>\n",
              "      <td>33</td>\n",
              "      <td>1</td>\n",
              "      <td>1</td>\n",
              "      <td>2</td>\n",
              "      <td>2</td>\n",
              "      <td>0</td>\n",
              "      <td>0</td>\n",
              "    </tr>\n",
              "    <tr>\n",
              "      <th>16074</th>\n",
              "      <td>95880</td>\n",
              "      <td>2018-06-09</td>\n",
              "      <td>1440</td>\n",
              "      <td>5</td>\n",
              "      <td>weekend</td>\n",
              "      <td>15</td>\n",
              "      <td>15</td>\n",
              "      <td>0</td>\n",
              "      <td>0</td>\n",
              "      <td>1</td>\n",
              "      <td>2</td>\n",
              "      <td>0</td>\n",
              "      <td>0</td>\n",
              "    </tr>\n",
              "    <tr>\n",
              "      <th>16075</th>\n",
              "      <td>95880</td>\n",
              "      <td>2018-06-10</td>\n",
              "      <td>1440</td>\n",
              "      <td>6</td>\n",
              "      <td>weekend</td>\n",
              "      <td>34</td>\n",
              "      <td>32</td>\n",
              "      <td>0</td>\n",
              "      <td>0</td>\n",
              "      <td>1</td>\n",
              "      <td>0</td>\n",
              "      <td>0</td>\n",
              "      <td>0</td>\n",
              "    </tr>\n",
              "    <tr>\n",
              "      <th>16081</th>\n",
              "      <td>95880</td>\n",
              "      <td>2018-06-16</td>\n",
              "      <td>1440</td>\n",
              "      <td>5</td>\n",
              "      <td>weekend</td>\n",
              "      <td>19</td>\n",
              "      <td>19</td>\n",
              "      <td>0</td>\n",
              "      <td>0</td>\n",
              "      <td>2</td>\n",
              "      <td>1</td>\n",
              "      <td>0</td>\n",
              "      <td>0</td>\n",
              "    </tr>\n",
              "    <tr>\n",
              "      <th>16082</th>\n",
              "      <td>95880</td>\n",
              "      <td>2018-06-17</td>\n",
              "      <td>1440</td>\n",
              "      <td>6</td>\n",
              "      <td>weekend</td>\n",
              "      <td>33</td>\n",
              "      <td>35</td>\n",
              "      <td>1</td>\n",
              "      <td>1</td>\n",
              "      <td>0</td>\n",
              "      <td>0</td>\n",
              "      <td>0</td>\n",
              "      <td>0</td>\n",
              "    </tr>\n",
              "  </tbody>\n",
              "</table>\n",
              "<p>4541 rows × 13 columns</p>\n",
              "</div>"
            ],
            "text/plain": [
              "       postal_code       date  ...  slots_freed_sum  slots_taken_sum\n",
              "5            75001 2018-01-06  ...               38               35\n",
              "6            75001 2018-01-07  ...               34               34\n",
              "12           75001 2018-01-13  ...               38               38\n",
              "13           75001 2018-01-14  ...               22               20\n",
              "19           75001 2018-01-20  ...               41               39\n",
              "...            ...        ...  ...              ...              ...\n",
              "16068        95880 2018-06-03  ...                0                0\n",
              "16074        95880 2018-06-09  ...                0                0\n",
              "16075        95880 2018-06-10  ...                0                0\n",
              "16081        95880 2018-06-16  ...                0                0\n",
              "16082        95880 2018-06-17  ...                0                0\n",
              "\n",
              "[4541 rows x 13 columns]"
            ]
          },
          "metadata": {
            "tags": []
          },
          "execution_count": 52
        }
      ]
    },
    {
      "cell_type": "code",
      "metadata": {
        "id": "uzad_mkT7qa4",
        "colab_type": "code",
        "colab": {
          "base_uri": "https://localhost:8080/",
          "height": 265
        },
        "outputId": "0a3d092c-3b3a-486f-a9b6-1cdbf9f48e3c"
      },
      "source": [
        "a.dtypes"
      ],
      "execution_count": 53,
      "outputs": [
        {
          "output_type": "execute_result",
          "data": {
            "text/plain": [
              "postal_code                        int64\n",
              "date                      datetime64[ns]\n",
              "n_daily_data_points                int64\n",
              "dayofweek                          int64\n",
              "day_type                          object\n",
              "bluecars_taken_sum                 int64\n",
              "bluecars_returned_sum              int64\n",
              "utilib_taken_sum                   int64\n",
              "utilib_returned_sum                int64\n",
              "utilib_14_taken_sum                int64\n",
              "utilib_14_returned_sum             int64\n",
              "slots_freed_sum                    int64\n",
              "slots_taken_sum                    int64\n",
              "dtype: object"
            ]
          },
          "metadata": {
            "tags": []
          },
          "execution_count": 53
        }
      ]
    },
    {
      "cell_type": "code",
      "metadata": {
        "id": "HHXBvWxI72Q8",
        "colab_type": "code",
        "colab": {
          "base_uri": "https://localhost:8080/",
          "height": 407
        },
        "outputId": "59bc44e7-5d14-4d08-98ac-5f3e1ccb139b"
      },
      "source": [
        "C_post = a.groupby('postal_code')['postal_code'].count()\n",
        "C_post.head(20)"
      ],
      "execution_count": 54,
      "outputs": [
        {
          "output_type": "execute_result",
          "data": {
            "text/plain": [
              "postal_code\n",
              "75001    44\n",
              "75002    44\n",
              "75003    44\n",
              "75004    44\n",
              "75005    44\n",
              "75006    44\n",
              "75007    44\n",
              "75008    44\n",
              "75009    44\n",
              "75010    44\n",
              "75011    44\n",
              "75012    44\n",
              "75013    44\n",
              "75014    44\n",
              "75015    44\n",
              "75016    44\n",
              "75017    44\n",
              "75018    44\n",
              "75019    44\n",
              "75020    44\n",
              "Name: postal_code, dtype: int64"
            ]
          },
          "metadata": {
            "tags": []
          },
          "execution_count": 54
        }
      ]
    },
    {
      "cell_type": "code",
      "metadata": {
        "id": "iaj_monB8WhN",
        "colab_type": "code",
        "colab": {
          "base_uri": "https://localhost:8080/",
          "height": 247
        },
        "outputId": "d504df17-2f35-4b64-8977-e3dff1f7119f"
      },
      "source": [
        "#Obtaining the means of blue cars in the postal code region of 75015 and 75017 during the weekend\n",
        "mean_post=a.groupby('postal_code')['bluecars_returned_sum'].mean().sort_values(ascending=False)\n",
        "mean_post"
      ],
      "execution_count": 55,
      "outputs": [
        {
          "output_type": "execute_result",
          "data": {
            "text/plain": [
              "postal_code\n",
              "75015    1084.250000\n",
              "75016     889.977273\n",
              "75017     857.500000\n",
              "75019     683.386364\n",
              "75013     657.477273\n",
              "            ...     \n",
              "93150       6.795455\n",
              "93370       5.363636\n",
              "92360       5.047619\n",
              "93390       5.040000\n",
              "93440       4.813953\n",
              "Name: bluecars_returned_sum, Length: 104, dtype: float64"
            ]
          },
          "metadata": {
            "tags": []
          },
          "execution_count": 55
        }
      ]
    },
    {
      "cell_type": "code",
      "metadata": {
        "id": "dxaEfuZE8gsa",
        "colab_type": "code",
        "colab": {
          "base_uri": "https://localhost:8080/",
          "height": 247
        },
        "outputId": "f9bef75a-d62e-4140-f1c5-d0571059b20d"
      },
      "source": [
        "#Standard deviation of the blue cars in the postal code region of 75015 and 75017 during the weekend\n",
        "dev_post=a.groupby('postal_code')['bluecars_returned_sum'].std().sort_values(ascending=False)\n",
        "dev_post"
      ],
      "execution_count": 56,
      "outputs": [
        {
          "output_type": "execute_result",
          "data": {
            "text/plain": [
              "postal_code\n",
              "75015    199.177743\n",
              "75016    169.056408\n",
              "75017    156.137462\n",
              "75013    115.090963\n",
              "75019    114.977291\n",
              "            ...    \n",
              "93370      3.524604\n",
              "92360      3.075889\n",
              "93390      2.893671\n",
              "93440      2.620940\n",
              "94100      2.576935\n",
              "Name: bluecars_returned_sum, Length: 104, dtype: float64"
            ]
          },
          "metadata": {
            "tags": []
          },
          "execution_count": 56
        }
      ]
    },
    {
      "cell_type": "code",
      "metadata": {
        "id": "NlBDl7efPn_w",
        "colab_type": "code",
        "colab": {
          "base_uri": "https://localhost:8080/",
          "height": 247
        },
        "outputId": "a23267f9-55b1-48ac-fa88-ddcce202fe5c"
      },
      "source": [
        "#Standard deviation of the blue cars in the postal code region of 75015 and 75017 during the weekend\n",
        "sum_post=a.groupby('postal_code')['bluecars_returned_sum'].sum().sort_values(ascending=False)\n",
        "sum_post"
      ],
      "execution_count": 57,
      "outputs": [
        {
          "output_type": "execute_result",
          "data": {
            "text/plain": [
              "postal_code\n",
              "75015    47707\n",
              "75016    39159\n",
              "75017    37730\n",
              "75019    30069\n",
              "75013    28929\n",
              "         ...  \n",
              "93150      299\n",
              "93370      236\n",
              "92360      212\n",
              "93440      207\n",
              "93390      126\n",
              "Name: bluecars_returned_sum, Length: 104, dtype: int64"
            ]
          },
          "metadata": {
            "tags": []
          },
          "execution_count": 57
        }
      ]
    },
    {
      "cell_type": "code",
      "metadata": {
        "id": "q322CghU80zM",
        "colab_type": "code",
        "colab": {
          "base_uri": "https://localhost:8080/",
          "height": 105
        },
        "outputId": "732bd52b-71f8-4b5f-db93-506a6454a691"
      },
      "source": [
        "#For this hypothesis we will use z statistic since the sample values are more than 20\n",
        "\n",
        "pmean=1084.250000\n",
        "smean=857.500000\n",
        "dev= 156\n",
        "n=44\n",
        "\n",
        "SE=(156.137462)/sqrt(n)\n",
        "print(SE)\n",
        "\n",
        "z_score = (smean - pmean)/SE\n",
        "print(z_score, 'the z statistic')\n",
        "\n",
        "p_values = scipy.stats.norm.sf(abs(z_scores))*2\n",
        "print(p_values, 'the p_value of the test statistic')\n",
        "\n",
        "#Test significance\n",
        "alpha= 0.05\n",
        "if (p_values< alpha):\n",
        "    print(\"indicates strong evidence against the null hypothesis, so you reject the null hypothesis\")\n",
        "else:\n",
        "\tprint(\"indicates weak evidence against the null hypothesis, so you fail to reject the null hypothesis\")\n",
        " \n",
        "#Testing sensitivity\n",
        "\n",
        "alpha= 0.01\n",
        "if (p_values <alpha):\n",
        "  print('reject the null hypothesis and accept the alternative')\n",
        "else:\n",
        "  print('fail to reject the null hypothesis')\n"
      ],
      "execution_count": 58,
      "outputs": [
        {
          "output_type": "stream",
          "text": [
            "23.538608053289735\n",
            "-9.633109973480765 the z statistic\n",
            "6.221796643869138e-65 the p_value of the test statistic\n",
            "indicates strong evidence against the null hypothesis, so you reject the null hypothesis\n",
            "reject the null hypothesis and accept the alternative\n"
          ],
          "name": "stdout"
        }
      ]
    },
    {
      "cell_type": "markdown",
      "metadata": {
        "id": "Z5YdXMxI_Jf3",
        "colab_type": "text"
      },
      "source": [
        "## Fourth Hypothesis\n",
        "\n",
        "Null Hypothesis: The number of blue cars in postal code 75015 region is less than or equal to the region post code of 75017 on weekends\n",
        "\n",
        "Alternative Hypothesis: The number of blues cars in postal code 75015 region is more than the region postal code of 75017 on weekends"
      ]
    },
    {
      "cell_type": "code",
      "metadata": {
        "id": "PbjpFSf2_GmK",
        "colab_type": "code",
        "colab": {
          "base_uri": "https://localhost:8080/",
          "height": 105
        },
        "outputId": "d81f4470-a240-4847-d2c3-e2a66e8a0043"
      },
      "source": [
        "#For this hypothesis we will use z statistic since the sample values are more than 20\n",
        "\n",
        "pmean=1084.250000\n",
        "smean=857.500000\n",
        "dev= 156\n",
        "n=44\n",
        "\n",
        "SE=(156.137462)/sqrt(n)\n",
        "print(SE)\n",
        "\n",
        "z_score = (smean - pmean)/SE\n",
        "print(z_score, 'the z statistic')\n",
        "\n",
        "p_values = scipy.stats.norm.sf(abs(z_scores))\n",
        "print(p_values, 'the p_value of the test statistic')\n",
        "\n",
        "#Test significance\n",
        "alpha= 0.25\n",
        "if (p_values< alpha):\n",
        "    print(\"indicates strong evidence against the null hypothesis, so you reject the null hypothesis\")\n",
        "else:\n",
        "\tprint(\"indicates weak evidence against the null hypothesis, so you fail to reject the null hypothesis\")\n",
        " \n",
        "#Test for sensitivity\n",
        "alpha = 0.005\n",
        "if (p_values<alpha):\n",
        "  print('reject the null hypothesis and accept the alternative')\n",
        "else:\n",
        "  print('fail to reject the null hypothesis')\n",
        "\n",
        "\n",
        "\n",
        "\n"
      ],
      "execution_count": 61,
      "outputs": [
        {
          "output_type": "stream",
          "text": [
            "28.506670003001897\n",
            "-7.954278769709759 the z statistic\n",
            "3.110898321934569e-65 the p_value of the test statistic\n",
            "indicates strong evidence against the null hypothesis, so you reject the null hypothesis\n",
            "reject the null hypothesis and accept the alternative\n"
          ],
          "name": "stdout"
        }
      ]
    }
  ]
}